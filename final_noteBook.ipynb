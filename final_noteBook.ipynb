{
 "cells": [
  {
   "cell_type": "markdown",
   "metadata": {},
   "source": [
    "#                               DEFI IA: FINAL STEP"
   ]
  },
  {
   "cell_type": "markdown",
   "metadata": {},
   "source": [
    "## Importation des données"
   ]
  },
  {
   "cell_type": "code",
   "execution_count": 1,
   "metadata": {},
   "outputs": [],
   "source": [
    "import pandas as pd\n",
    "import numpy as np\n",
    "trainDF = pd.read_csv(\"final-model/newtrain.csv\",sep=\";\")\n",
    "valDF = pd.read_csv(\"final-model/newtest.csv\",sep=\";\")\n",
    "labels = pd.read_csv(\"final-model/soumission60-fin.csv\",sep=\";\")"
   ]
  },
  {
   "cell_type": "code",
   "execution_count": 106,
   "metadata": {},
   "outputs": [],
   "source": [
    "test = pd.read_hdf(\"test.hdf5\")"
   ]
  },
  {
   "cell_type": "code",
   "execution_count": 2,
   "metadata": {},
   "outputs": [
    {
     "data": {
      "text/html": [
       "<div>\n",
       "<style>\n",
       "    .dataframe thead tr:only-child th {\n",
       "        text-align: right;\n",
       "    }\n",
       "\n",
       "    .dataframe thead th {\n",
       "        text-align: left;\n",
       "    }\n",
       "\n",
       "    .dataframe tbody tr th {\n",
       "        vertical-align: top;\n",
       "    }\n",
       "</style>\n",
       "<table border=\"1\" class=\"dataframe\">\n",
       "  <thead>\n",
       "    <tr style=\"text-align: right;\">\n",
       "      <th></th>\n",
       "      <th>Unnamed: 0</th>\n",
       "      <th>mean</th>\n",
       "      <th>std</th>\n",
       "      <th>min</th>\n",
       "      <th>25%</th>\n",
       "      <th>50%</th>\n",
       "      <th>75%</th>\n",
       "      <th>max</th>\n",
       "    </tr>\n",
       "  </thead>\n",
       "  <tbody>\n",
       "    <tr>\n",
       "      <th>0</th>\n",
       "      <td>0</td>\n",
       "      <td>0.052278</td>\n",
       "      <td>0.157131</td>\n",
       "      <td>-0.246444</td>\n",
       "      <td>-0.036789</td>\n",
       "      <td>0.012854</td>\n",
       "      <td>0.086433</td>\n",
       "      <td>1.320870</td>\n",
       "    </tr>\n",
       "    <tr>\n",
       "      <th>1</th>\n",
       "      <td>1</td>\n",
       "      <td>-0.044933</td>\n",
       "      <td>0.054393</td>\n",
       "      <td>-0.384193</td>\n",
       "      <td>-0.082956</td>\n",
       "      <td>-0.043788</td>\n",
       "      <td>-0.005281</td>\n",
       "      <td>0.157110</td>\n",
       "    </tr>\n",
       "    <tr>\n",
       "      <th>2</th>\n",
       "      <td>2</td>\n",
       "      <td>-0.025039</td>\n",
       "      <td>1.439261</td>\n",
       "      <td>-7.058065</td>\n",
       "      <td>-0.952752</td>\n",
       "      <td>-0.020552</td>\n",
       "      <td>0.889994</td>\n",
       "      <td>6.521087</td>\n",
       "    </tr>\n",
       "    <tr>\n",
       "      <th>3</th>\n",
       "      <td>3</td>\n",
       "      <td>-0.019569</td>\n",
       "      <td>0.086528</td>\n",
       "      <td>-0.377841</td>\n",
       "      <td>-0.076447</td>\n",
       "      <td>-0.013400</td>\n",
       "      <td>0.052722</td>\n",
       "      <td>0.161022</td>\n",
       "    </tr>\n",
       "    <tr>\n",
       "      <th>4</th>\n",
       "      <td>4</td>\n",
       "      <td>-0.014652</td>\n",
       "      <td>0.054767</td>\n",
       "      <td>-0.231434</td>\n",
       "      <td>-0.052648</td>\n",
       "      <td>-0.015027</td>\n",
       "      <td>0.023034</td>\n",
       "      <td>0.205329</td>\n",
       "    </tr>\n",
       "  </tbody>\n",
       "</table>\n",
       "</div>"
      ],
      "text/plain": [
       "   Unnamed: 0      mean       std       min       25%       50%       75%  \\\n",
       "0           0  0.052278  0.157131 -0.246444 -0.036789  0.012854  0.086433   \n",
       "1           1 -0.044933  0.054393 -0.384193 -0.082956 -0.043788 -0.005281   \n",
       "2           2 -0.025039  1.439261 -7.058065 -0.952752 -0.020552  0.889994   \n",
       "3           3 -0.019569  0.086528 -0.377841 -0.076447 -0.013400  0.052722   \n",
       "4           4 -0.014652  0.054767 -0.231434 -0.052648 -0.015027  0.023034   \n",
       "\n",
       "        max  \n",
       "0  1.320870  \n",
       "1  0.157110  \n",
       "2  6.521087  \n",
       "3  0.161022  \n",
       "4  0.205329  "
      ]
     },
     "execution_count": 2,
     "metadata": {},
     "output_type": "execute_result"
    }
   ],
   "source": [
    "testDF = pd.read_csv(\"test.csv\",sep=\",\")\n",
    "testDF.head()"
   ]
  },
  {
   "cell_type": "code",
   "execution_count": 3,
   "metadata": {},
   "outputs": [
    {
     "data": {
      "text/plain": [
       "(1917, 7)"
      ]
     },
     "execution_count": 3,
     "metadata": {},
     "output_type": "execute_result"
    }
   ],
   "source": [
    "testDF = testDF.drop([\"Unnamed: 0\"],axis=1)\n",
    "testDF.shape"
   ]
  },
  {
   "cell_type": "code",
   "execution_count": 4,
   "metadata": {},
   "outputs": [
    {
     "data": {
      "text/plain": [
       "0    0\n",
       "1    1\n",
       "2    0\n",
       "3    0\n",
       "4    1\n",
       "Name: anomaly, dtype: int64"
      ]
     },
     "execution_count": 4,
     "metadata": {},
     "output_type": "execute_result"
    }
   ],
   "source": [
    "label_from_test = labels.loc[:,\"anomaly\"]\n",
    "label_from_test.head()"
   ]
  },
  {
   "cell_type": "code",
   "execution_count": 5,
   "metadata": {},
   "outputs": [],
   "source": [
    "X = valDF\n",
    "y = label_from_test"
   ]
  },
  {
   "cell_type": "code",
   "execution_count": 7,
   "metadata": {},
   "outputs": [],
   "source": [
    "tmp = labels[[\"anomaly\"]]\n",
    "y1 = tmp[tmp[\"anomaly\"]==1]\n",
    "y0 = tmp[tmp[\"anomaly\"]==0]"
   ]
  },
  {
   "cell_type": "code",
   "execution_count": 8,
   "metadata": {},
   "outputs": [],
   "source": [
    "xval0 = valDF.iloc[y0.index,:]\n",
    "xval1 = valDF.iloc[y1.index,:]"
   ]
  },
  {
   "cell_type": "markdown",
   "metadata": {},
   "source": [
    "## Split du jeu de données"
   ]
  },
  {
   "cell_type": "code",
   "execution_count": 29,
   "metadata": {},
   "outputs": [],
   "source": [
    "from sklearn.model_selection import train_test_split\n",
    "x_train, x_test, y_train, y_test = train_test_split(X,y,test_size=0.3,random_state=134)"
   ]
  },
  {
   "cell_type": "code",
   "execution_count": 51,
   "metadata": {},
   "outputs": [],
   "source": []
  },
  {
   "cell_type": "markdown",
   "metadata": {},
   "source": [
    "## Construction du modèle"
   ]
  },
  {
   "cell_type": "markdown",
   "metadata": {},
   "source": [
    "Définition de 10 blocs pour la validation croisée"
   ]
  },
  {
   "cell_type": "code",
   "execution_count": 11,
   "metadata": {},
   "outputs": [
    {
     "name": "stderr",
     "output_type": "stream",
     "text": [
      "c:\\users\\soum bartowski\\anaconda3\\lib\\site-packages\\sklearn\\ensemble\\weight_boosting.py:29: DeprecationWarning: numpy.core.umath_tests is an internal NumPy module and should not be imported. It will be removed in a future NumPy release.\n",
      "  from numpy.core.umath_tests import inner1d\n",
      "c:\\users\\soum bartowski\\anaconda3\\lib\\site-packages\\sklearn\\cross_validation.py:44: DeprecationWarning: This module was deprecated in version 0.18 in favor of the model_selection module into which all the refactored classes and functions are moved. Also note that the interface of the new CV iterators are different from that of this module. This module will be removed in 0.20.\n",
      "  \"This module will be removed in 0.20.\", DeprecationWarning)\n"
     ]
    }
   ],
   "source": [
    "from sklearn.linear_model import LogisticRegression, RidgeClassifier\n",
    "from sklearn import tree\n",
    "from sklearn.ensemble import RandomForestClassifier, GradientBoostingClassifier,BaggingClassifier,VotingClassifier\n",
    "from sklearn.svm import SVC\n",
    "from sklearn.neighbors import KNeighborsClassifier\n",
    "from sklearn.naive_bayes import GaussianNB\n",
    "from sklearn.cross_validation import cross_val_score\n",
    "from sklearn import metrics\n",
    "from sklearn.metrics import roc_auc_score, accuracy_score, precision_score, recall_score, f1_score\n",
    "from sklearn.model_selection import GridSearchCV"
   ]
  },
  {
   "cell_type": "markdown",
   "metadata": {},
   "source": [
    "## 1. logistic model"
   ]
  },
  {
   "cell_type": "code",
   "execution_count": 8,
   "metadata": {},
   "outputs": [],
   "source": [
    "logit_model = LogisticRegression()\n",
    "\n",
    "logit_model = logit_model.fit(x_train, y_train)\n",
    "logit_model.score(x_train, y_train)\n",
    "\n",
    "predicted = pd.DataFrame(logit_model.predict(x_test))\n",
    "# Probabilities on the test dataset\n",
    "logit_probs = pd.DataFrame(logit_model.predict_proba(x_test))\n",
    "\n",
    "# Store metrics\n",
    "logit_accuracy = metrics.accuracy_score(y_test, predicted)\n",
    "logit_roc_auc = metrics.roc_auc_score(y_test, logit_probs[1])       \n",
    "logit_confus_matrix = metrics.confusion_matrix(y_test, predicted) \n",
    "logit_classification_report = metrics.classification_report(y_test, predicted)\n",
    "logit_precision = metrics.precision_score(y_test, predicted, pos_label=1)\n",
    "logit_recall = metrics.recall_score(y_test, predicted, pos_label=1)\n",
    "logit_f1 = metrics.f1_score(y_test, predicted, pos_label=1)\n",
    "\n",
    "# evaluate the model using 10-fold cross-validation\n",
    "logit_cv_scores = cross_val_score(tree.DecisionTreeClassifier(max_depth=3), x_test, y_test, scoring='precision', cv=10)\n",
    "logit_cv_mean = np.mean(logit_cv_scores)"
   ]
  },
  {
   "cell_type": "markdown",
   "metadata": {},
   "source": [
    "## 2. Tree Decision"
   ]
  },
  {
   "cell_type": "code",
   "execution_count": 14,
   "metadata": {},
   "outputs": [],
   "source": [
    "# Decision tree\n",
    "tree_model = tree.DecisionTreeClassifier(max_depth=3) \n",
    "tree_model = tree_model.fit(x_train, y_train)\n",
    "tree_model.score(x_train, y_train)\n",
    "\n",
    "# Predictions/probs on the test dataset\n",
    "predicted = pd.DataFrame(tree_model.predict(x_test))\n",
    "tree_probs = pd.DataFrame(tree_model.predict_proba(x_test))\n",
    "\n",
    "# Store metrics\n",
    "tree_accuracy = metrics.accuracy_score(y_test, predicted)     \n",
    "tree_roc_auc = metrics.roc_auc_score(y_test, tree_probs[1])       \n",
    "tree_confus_matrix = metrics.confusion_matrix(y_test, predicted) \n",
    "tree_classification_report = metrics.classification_report(y_test, predicted)\n",
    "tree_precision = metrics.precision_score(y_test, predicted, pos_label=1)\n",
    "tree_recall = metrics.recall_score(y_test, predicted, pos_label=1)\n",
    "tree_f1 = metrics.f1_score(y_test, predicted, pos_label=1)\n",
    "\n",
    "# evaluate the model using 10-fold cross-validation\n",
    "tree_cv_scores = cross_val_score(tree.DecisionTreeClassifier(max_depth=3), x_test, y_test, scoring='precision', cv=10)\n",
    "tree_cv_mean = np.mean(tree_cv_scores)"
   ]
  },
  {
   "cell_type": "markdown",
   "metadata": {},
   "source": [
    "## 3. RandomForest"
   ]
  },
  {
   "cell_type": "code",
   "execution_count": 9,
   "metadata": {},
   "outputs": [],
   "source": [
    "# RandomForest\n",
    "rf = RandomForestClassifier()\n",
    "rf_model = rf.fit(x_train, y_train)\n",
    "rf_model.score(x_train, y_train)\n",
    "\n",
    "# Predictions/probs on the test dataset\n",
    "predicted = pd.DataFrame(rf_model.predict(x_test))\n",
    "rf_probs = pd.DataFrame(rf_model.predict_proba(x_test))\n",
    "\n",
    "# Store metrics\n",
    "rf_accuracy = metrics.accuracy_score(y_test, predicted)     \n",
    "rf_roc_auc = metrics.roc_auc_score(y_test, rf_probs[1])       \n",
    "rf_confus_matrix = metrics.confusion_matrix(y_test, predicted) \n",
    "rf_classification_report = metrics.classification_report(y_test, predicted)\n",
    "rf_precision = metrics.precision_score(y_test, predicted, pos_label=1)\n",
    "rf_recall = metrics.recall_score(y_test, predicted, pos_label=1)\n",
    "rf_f1 = metrics.f1_score(y_test, predicted, pos_label=1)\n",
    "\n",
    "# Evaluate the model using 10-fold cross-validation\n",
    "rf_cv_scores = cross_val_score(RandomForestClassifier(), x_test, y_test, scoring='precision', cv=10)\n",
    "rf_cv_mean = np.mean(rf_cv_scores)"
   ]
  },
  {
   "cell_type": "markdown",
   "metadata": {},
   "source": [
    "## 4. SVM"
   ]
  },
  {
   "cell_type": "code",
   "execution_count": 10,
   "metadata": {},
   "outputs": [],
   "source": [
    "# SVM\n",
    "svm_model = SVC(probability=True)\n",
    "svm_model = svm_model.fit(x_train, y_train)\n",
    "svm_model.score(x_train, y_train)\n",
    "\n",
    "# Predictions/probs on the test dataset\n",
    "predicted = pd.DataFrame(svm_model.predict(x_test))\n",
    "svm_probs = pd.DataFrame(svm_model.predict_proba(x_test))\n",
    "\n",
    "# Store metrics\n",
    "svm_accuracy = metrics.accuracy_score(y_test, predicted)     \n",
    "svm_roc_auc = metrics.roc_auc_score(y_test, svm_probs[1])       \n",
    "svm_confus_matrix = metrics.confusion_matrix(y_test, predicted) \n",
    "svm_classification_report = metrics.classification_report(y_test, predicted)\n",
    "svm_precision = metrics.precision_score(y_test, predicted, pos_label=1)\n",
    "svm_recall = metrics.recall_score(y_test, predicted, pos_label=1)\n",
    "svm_f1 = metrics.f1_score(y_test, predicted, pos_label=1)\n",
    "\n",
    "# Evaluate the model using 10-fold cross-validation\n",
    "svm_cv_scores = cross_val_score(RandomForestClassifier(), x_test, y_test, scoring='precision', cv=10)\n",
    "svm_cv_mean = np.mean(svm_cv_scores)"
   ]
  },
  {
   "cell_type": "markdown",
   "metadata": {},
   "source": [
    "## 5. K nearst neighbors"
   ]
  },
  {
   "cell_type": "code",
   "execution_count": 11,
   "metadata": {},
   "outputs": [],
   "source": [
    "# instantiate learning model (k = 3)\n",
    "knn_model = KNeighborsClassifier(n_neighbors=3)\n",
    "knn_model.fit(x_train, y_train)\n",
    "knn_model.score(x_train, y_train)\n",
    "\n",
    "# Predictions/probs on the test dataset\n",
    "predicted = pd.DataFrame(knn_model.predict(x_test))\n",
    "knn_probs = pd.DataFrame(knn_model.predict_proba(x_test))\n",
    "\n",
    "# Store metrics\n",
    "knn_accuracy = metrics.accuracy_score(y_test, predicted)     \n",
    "knn_roc_auc = metrics.roc_auc_score(y_test, knn_probs[1])       \n",
    "knn_confus_matrix = metrics.confusion_matrix(y_test, predicted) \n",
    "knn_classification_report = metrics.classification_report(y_test, predicted)\n",
    "knn_precision = metrics.precision_score(y_test, predicted, pos_label=1)\n",
    "knn_recall = metrics.recall_score(y_test, predicted, pos_label=1)\n",
    "knn_f1 = metrics.f1_score(y_test, predicted, pos_label=1)\n",
    "\n",
    "# Evaluate the model using 10-fold cross-validation\n",
    "knn_cv_scores = cross_val_score(KNeighborsClassifier(n_neighbors=3), x_test, y_test, scoring='precision', cv=10)\n",
    "knn_cv_mean = np.mean(knn_cv_scores)"
   ]
  },
  {
   "cell_type": "markdown",
   "metadata": {},
   "source": [
    "## 6. TWO CLASS BAYES"
   ]
  },
  {
   "cell_type": "code",
   "execution_count": 12,
   "metadata": {},
   "outputs": [],
   "source": [
    "bayes_model = GaussianNB()\n",
    "bayes_model.fit(x_train, y_train)\n",
    "bayes_model.score(x_train, y_train)\n",
    "\n",
    "# Predictions/probs on the test dataset\n",
    "predicted = pd.DataFrame(bayes_model.predict(x_test))\n",
    "bayes_probs = pd.DataFrame(bayes_model.predict_proba(x_test))\n",
    "\n",
    "# Store metrics\n",
    "bayes_accuracy = metrics.accuracy_score(y_test, predicted)     \n",
    "bayes_roc_auc = metrics.roc_auc_score(y_test, bayes_probs[1])       \n",
    "bayes_confus_matrix = metrics.confusion_matrix(y_test, predicted) \n",
    "bayes_classification_report = metrics.classification_report(y_test, predicted)\n",
    "bayes_precision = metrics.precision_score(y_test, predicted, pos_label=1)\n",
    "bayes_recall = metrics.recall_score(y_test, predicted, pos_label=1)\n",
    "bayes_f1 = metrics.f1_score(y_test, predicted, pos_label=1)\n",
    "\n",
    "# Evaluate the model using 10-fold cross-validation\n",
    "bayes_cv_scores = cross_val_score(KNeighborsClassifier(n_neighbors=3), x_test, y_test, scoring='precision', cv=10)\n",
    "bayes_cv_mean = np.mean(bayes_cv_scores)"
   ]
  },
  {
   "cell_type": "markdown",
   "metadata": {},
   "source": [
    "## Results"
   ]
  },
  {
   "cell_type": "code",
   "execution_count": 15,
   "metadata": {},
   "outputs": [
    {
     "data": {
      "text/html": [
       "<div>\n",
       "<style>\n",
       "    .dataframe thead tr:only-child th {\n",
       "        text-align: right;\n",
       "    }\n",
       "\n",
       "    .dataframe thead th {\n",
       "        text-align: left;\n",
       "    }\n",
       "\n",
       "    .dataframe tbody tr th {\n",
       "        vertical-align: top;\n",
       "    }\n",
       "</style>\n",
       "<table border=\"1\" class=\"dataframe\">\n",
       "  <thead>\n",
       "    <tr style=\"text-align: right;\">\n",
       "      <th></th>\n",
       "      <th>Accuracy</th>\n",
       "      <th>F1</th>\n",
       "      <th>Model</th>\n",
       "      <th>Precision</th>\n",
       "      <th>cv_precision</th>\n",
       "      <th>recall</th>\n",
       "    </tr>\n",
       "  </thead>\n",
       "  <tbody>\n",
       "    <tr>\n",
       "      <th>2</th>\n",
       "      <td>0.994413</td>\n",
       "      <td>0.994083</td>\n",
       "      <td>r.f.</td>\n",
       "      <td>1.000000</td>\n",
       "      <td>0.990000</td>\n",
       "      <td>0.988235</td>\n",
       "    </tr>\n",
       "    <tr>\n",
       "      <th>1</th>\n",
       "      <td>0.988827</td>\n",
       "      <td>0.988372</td>\n",
       "      <td>d.Tree</td>\n",
       "      <td>0.977011</td>\n",
       "      <td>0.988889</td>\n",
       "      <td>1.000000</td>\n",
       "    </tr>\n",
       "    <tr>\n",
       "      <th>4</th>\n",
       "      <td>0.983240</td>\n",
       "      <td>0.982456</td>\n",
       "      <td>kNN</td>\n",
       "      <td>0.976744</td>\n",
       "      <td>0.990000</td>\n",
       "      <td>0.988235</td>\n",
       "    </tr>\n",
       "    <tr>\n",
       "      <th>5</th>\n",
       "      <td>0.944134</td>\n",
       "      <td>0.937500</td>\n",
       "      <td>Bayes</td>\n",
       "      <td>1.000000</td>\n",
       "      <td>0.990000</td>\n",
       "      <td>0.882353</td>\n",
       "    </tr>\n",
       "    <tr>\n",
       "      <th>3</th>\n",
       "      <td>0.938547</td>\n",
       "      <td>0.930818</td>\n",
       "      <td>SVM</td>\n",
       "      <td>1.000000</td>\n",
       "      <td>0.980000</td>\n",
       "      <td>0.870588</td>\n",
       "    </tr>\n",
       "    <tr>\n",
       "      <th>0</th>\n",
       "      <td>0.888268</td>\n",
       "      <td>0.866667</td>\n",
       "      <td>Logistic</td>\n",
       "      <td>1.000000</td>\n",
       "      <td>0.988889</td>\n",
       "      <td>0.764706</td>\n",
       "    </tr>\n",
       "  </tbody>\n",
       "</table>\n",
       "</div>"
      ],
      "text/plain": [
       "   Accuracy        F1     Model  Precision  cv_precision    recall\n",
       "2  0.994413  0.994083      r.f.   1.000000      0.990000  0.988235\n",
       "1  0.988827  0.988372    d.Tree   0.977011      0.988889  1.000000\n",
       "4  0.983240  0.982456       kNN   0.976744      0.990000  0.988235\n",
       "5  0.944134  0.937500     Bayes   1.000000      0.990000  0.882353\n",
       "3  0.938547  0.930818       SVM   1.000000      0.980000  0.870588\n",
       "0  0.888268  0.866667  Logistic   1.000000      0.988889  0.764706"
      ]
     },
     "execution_count": 15,
     "metadata": {},
     "output_type": "execute_result"
    }
   ],
   "source": [
    "# Model comparison\n",
    "models = pd.DataFrame({\n",
    "  'Model': ['Logistic', 'd.Tree', 'r.f.', 'SVM', 'kNN',  'Bayes'],\n",
    "  'Accuracy' : [logit_accuracy, tree_accuracy, rf_accuracy, svm_accuracy, knn_accuracy, bayes_accuracy],\n",
    "  'Precision': [logit_precision, tree_precision, rf_precision, svm_precision, knn_precision, bayes_precision],\n",
    "  'recall' : [logit_recall, tree_recall, rf_recall, svm_recall, knn_recall, bayes_recall],\n",
    "  'F1' : [logit_f1, tree_f1, rf_f1, svm_f1, knn_f1, bayes_f1],\n",
    "  'cv_precision' : [logit_cv_mean, tree_cv_mean, rf_cv_mean, svm_cv_mean, knn_cv_mean, bayes_cv_mean]\n",
    "})\n",
    "\n",
    "# probabilities\n",
    "proba = pd.DataFrame({'logistic':logit_probs[1],'d.Tree':tree_probs[1],'rf':rf_probs[1],'SVM':svm_probs[1],'KNN':knn_probs[1],'Bayes':bayes_probs[1]})\n",
    "# Print table and sort by test precision\n",
    "models.sort_values(by='F1', ascending=False)"
   ]
  },
  {
   "cell_type": "code",
   "execution_count": 17,
   "metadata": {},
   "outputs": [],
   "source": [
    "pred = rf_model.predict(testDF)"
   ]
  },
  {
   "cell_type": "code",
   "execution_count": 18,
   "metadata": {},
   "outputs": [
    {
     "data": {
      "text/plain": [
       "(array([0, 1], dtype=int64), array([1294,  623], dtype=int64))"
      ]
     },
     "execution_count": 18,
     "metadata": {},
     "output_type": "execute_result"
    }
   ],
   "source": [
    "np.unique(pred,return_counts=True)"
   ]
  },
  {
   "cell_type": "markdown",
   "metadata": {},
   "source": [
    "# Bootstrap Method"
   ]
  },
  {
   "cell_type": "code",
   "execution_count": 57,
   "metadata": {},
   "outputs": [],
   "source": [
    "def model_boot(clf,xtest=None,num_boot=10):\n",
    "    \"\"\"\n",
    "    parameters:\n",
    "             clf: le classifier\n",
    "             num_boot: nombre d'echantillon bootstrap\n",
    "    return:\n",
    "          df : dataframe des metrics pour chaque bootstrap\n",
    "    \"\"\"\n",
    "    from sklearn.utils import resample\n",
    "    from sklearn.model_selection import train_test_split\n",
    "\n",
    "    tmp = np.zeros(num_boot)\n",
    "    df = pd.DataFrame({'Iteration':range(1,num_boot+1),'accuracy':tmp,'precision':tmp,'recall':tmp,'f1':tmp})\n",
    "    # index\n",
    "    indtrain = trainDF.index\n",
    "    indVal0 = xval0.index\n",
    "    indVal1 = xval1.index\n",
    "\n",
    "    for k in range(num_boot):\n",
    "        rs = 1234+k\n",
    "        #index bootstrap\n",
    "        ind_boot = resample(indtrain, replace=True, n_samples=150, random_state=rs)\n",
    "        ind0_boot = resample(indVal0, replace=True, n_samples=150, random_state=rs)\n",
    "        #ind1_boot = resample(indVal1, replace=True, n_samples=297, random_state=2)\n",
    "        # out of bag observations \n",
    "        #ind_oob = [x for x in indtrain if x not in ind_boot]\n",
    "        #ind0_oob = [x for x in indVal0 if x not in ind0_boot]\n",
    "\n",
    "        #ind1_oob = [x for x in indVal1 if x not in ind1_boot]\n",
    "        XX = trainDF.iloc[ind_boot,:]\n",
    "        X0 = valDF.iloc[ind0_boot,:]\n",
    "        #X1 = valDF.iloc[ind1_boot,:]\n",
    "        X = pd.concat([pd.concat([XX,X0],axis=0),xval1],axis=0)\n",
    "        # labels\n",
    "        lab0 = np.zeros(300)\n",
    "        lab1 = np.ones(297)\n",
    "        df0 = pd.DataFrame({'anomaly':lab0})\n",
    "        df1 = pd.DataFrame({'anomaly':lab1})\n",
    "        y =pd.concat([df0,df1],axis=0)\n",
    "        y[\"anomaly\"] = y[\"anomaly\"].astype(\"int\")\n",
    "\n",
    "        x_train, x_test, y_train, y_test = train_test_split(X,y,test_size=0.3,random_state=rs)\n",
    "        # RandomForest\n",
    "        rf = clf\n",
    "        rf_model = rf.fit(x_train, y_train)\n",
    "        rf_model.score(x_train, y_train)\n",
    "\n",
    "        # Predictions/probs on the test dataset\n",
    "        predicted = pd.DataFrame(rf_model.predict(x_test))\n",
    "        # Store metrics\n",
    "        rf_accuracy = metrics.accuracy_score(y_test, predicted)     \n",
    "        rf_precision = metrics.precision_score(y_test, predicted, pos_label=1)\n",
    "        rf_recall = metrics.recall_score(y_test, predicted, pos_label=1)\n",
    "        rf_f1 = metrics.f1_score(y_test, predicted, pos_label=1)  \n",
    "        #dataframe scores\n",
    "        df.iloc[k,1] = rf_accuracy\n",
    "        df.iloc[k,2] = rf_precision\n",
    "        df.iloc[k,3] = rf_recall\n",
    "        df.iloc[k,4] = rf_f1\n",
    "        \n",
    "    if xtest is not None:\n",
    "        pred = rf_model.predict(xtest)\n",
    "        prob = pd.DataFrame(rf_model.predict_proba(xtest))\n",
    "        return df,pred,prob\n",
    "    else:\n",
    "        return df"
   ]
  },
  {
   "cell_type": "code",
   "execution_count": null,
   "metadata": {},
   "outputs": [],
   "source": [
    "## RandomForest"
   ]
  },
  {
   "cell_type": "code",
   "execution_count": 58,
   "metadata": {},
   "outputs": [
    {
     "name": "stderr",
     "output_type": "stream",
     "text": [
      "c:\\users\\soum bartowski\\anaconda3\\lib\\site-packages\\ipykernel_launcher.py:45: DataConversionWarning: A column-vector y was passed when a 1d array was expected. Please change the shape of y to (n_samples,), for example using ravel().\n",
      "c:\\users\\soum bartowski\\anaconda3\\lib\\site-packages\\ipykernel_launcher.py:45: DataConversionWarning: A column-vector y was passed when a 1d array was expected. Please change the shape of y to (n_samples,), for example using ravel().\n",
      "c:\\users\\soum bartowski\\anaconda3\\lib\\site-packages\\ipykernel_launcher.py:45: DataConversionWarning: A column-vector y was passed when a 1d array was expected. Please change the shape of y to (n_samples,), for example using ravel().\n",
      "c:\\users\\soum bartowski\\anaconda3\\lib\\site-packages\\ipykernel_launcher.py:45: DataConversionWarning: A column-vector y was passed when a 1d array was expected. Please change the shape of y to (n_samples,), for example using ravel().\n",
      "c:\\users\\soum bartowski\\anaconda3\\lib\\site-packages\\ipykernel_launcher.py:45: DataConversionWarning: A column-vector y was passed when a 1d array was expected. Please change the shape of y to (n_samples,), for example using ravel().\n",
      "c:\\users\\soum bartowski\\anaconda3\\lib\\site-packages\\ipykernel_launcher.py:45: DataConversionWarning: A column-vector y was passed when a 1d array was expected. Please change the shape of y to (n_samples,), for example using ravel().\n",
      "c:\\users\\soum bartowski\\anaconda3\\lib\\site-packages\\ipykernel_launcher.py:45: DataConversionWarning: A column-vector y was passed when a 1d array was expected. Please change the shape of y to (n_samples,), for example using ravel().\n",
      "c:\\users\\soum bartowski\\anaconda3\\lib\\site-packages\\ipykernel_launcher.py:45: DataConversionWarning: A column-vector y was passed when a 1d array was expected. Please change the shape of y to (n_samples,), for example using ravel().\n",
      "c:\\users\\soum bartowski\\anaconda3\\lib\\site-packages\\ipykernel_launcher.py:45: DataConversionWarning: A column-vector y was passed when a 1d array was expected. Please change the shape of y to (n_samples,), for example using ravel().\n",
      "c:\\users\\soum bartowski\\anaconda3\\lib\\site-packages\\ipykernel_launcher.py:45: DataConversionWarning: A column-vector y was passed when a 1d array was expected. Please change the shape of y to (n_samples,), for example using ravel().\n",
      "c:\\users\\soum bartowski\\anaconda3\\lib\\site-packages\\ipykernel_launcher.py:45: DataConversionWarning: A column-vector y was passed when a 1d array was expected. Please change the shape of y to (n_samples,), for example using ravel().\n",
      "c:\\users\\soum bartowski\\anaconda3\\lib\\site-packages\\ipykernel_launcher.py:45: DataConversionWarning: A column-vector y was passed when a 1d array was expected. Please change the shape of y to (n_samples,), for example using ravel().\n",
      "c:\\users\\soum bartowski\\anaconda3\\lib\\site-packages\\ipykernel_launcher.py:45: DataConversionWarning: A column-vector y was passed when a 1d array was expected. Please change the shape of y to (n_samples,), for example using ravel().\n",
      "c:\\users\\soum bartowski\\anaconda3\\lib\\site-packages\\ipykernel_launcher.py:45: DataConversionWarning: A column-vector y was passed when a 1d array was expected. Please change the shape of y to (n_samples,), for example using ravel().\n",
      "c:\\users\\soum bartowski\\anaconda3\\lib\\site-packages\\ipykernel_launcher.py:45: DataConversionWarning: A column-vector y was passed when a 1d array was expected. Please change the shape of y to (n_samples,), for example using ravel().\n",
      "c:\\users\\soum bartowski\\anaconda3\\lib\\site-packages\\ipykernel_launcher.py:45: DataConversionWarning: A column-vector y was passed when a 1d array was expected. Please change the shape of y to (n_samples,), for example using ravel().\n",
      "c:\\users\\soum bartowski\\anaconda3\\lib\\site-packages\\ipykernel_launcher.py:45: DataConversionWarning: A column-vector y was passed when a 1d array was expected. Please change the shape of y to (n_samples,), for example using ravel().\n",
      "c:\\users\\soum bartowski\\anaconda3\\lib\\site-packages\\ipykernel_launcher.py:45: DataConversionWarning: A column-vector y was passed when a 1d array was expected. Please change the shape of y to (n_samples,), for example using ravel().\n",
      "c:\\users\\soum bartowski\\anaconda3\\lib\\site-packages\\ipykernel_launcher.py:45: DataConversionWarning: A column-vector y was passed when a 1d array was expected. Please change the shape of y to (n_samples,), for example using ravel().\n",
      "c:\\users\\soum bartowski\\anaconda3\\lib\\site-packages\\ipykernel_launcher.py:45: DataConversionWarning: A column-vector y was passed when a 1d array was expected. Please change the shape of y to (n_samples,), for example using ravel().\n",
      "c:\\users\\soum bartowski\\anaconda3\\lib\\site-packages\\ipykernel_launcher.py:45: DataConversionWarning: A column-vector y was passed when a 1d array was expected. Please change the shape of y to (n_samples,), for example using ravel().\n",
      "c:\\users\\soum bartowski\\anaconda3\\lib\\site-packages\\ipykernel_launcher.py:45: DataConversionWarning: A column-vector y was passed when a 1d array was expected. Please change the shape of y to (n_samples,), for example using ravel().\n",
      "c:\\users\\soum bartowski\\anaconda3\\lib\\site-packages\\ipykernel_launcher.py:45: DataConversionWarning: A column-vector y was passed when a 1d array was expected. Please change the shape of y to (n_samples,), for example using ravel().\n",
      "c:\\users\\soum bartowski\\anaconda3\\lib\\site-packages\\ipykernel_launcher.py:45: DataConversionWarning: A column-vector y was passed when a 1d array was expected. Please change the shape of y to (n_samples,), for example using ravel().\n",
      "c:\\users\\soum bartowski\\anaconda3\\lib\\site-packages\\ipykernel_launcher.py:45: DataConversionWarning: A column-vector y was passed when a 1d array was expected. Please change the shape of y to (n_samples,), for example using ravel().\n",
      "c:\\users\\soum bartowski\\anaconda3\\lib\\site-packages\\ipykernel_launcher.py:45: DataConversionWarning: A column-vector y was passed when a 1d array was expected. Please change the shape of y to (n_samples,), for example using ravel().\n",
      "c:\\users\\soum bartowski\\anaconda3\\lib\\site-packages\\ipykernel_launcher.py:45: DataConversionWarning: A column-vector y was passed when a 1d array was expected. Please change the shape of y to (n_samples,), for example using ravel().\n",
      "c:\\users\\soum bartowski\\anaconda3\\lib\\site-packages\\ipykernel_launcher.py:45: DataConversionWarning: A column-vector y was passed when a 1d array was expected. Please change the shape of y to (n_samples,), for example using ravel().\n",
      "c:\\users\\soum bartowski\\anaconda3\\lib\\site-packages\\ipykernel_launcher.py:45: DataConversionWarning: A column-vector y was passed when a 1d array was expected. Please change the shape of y to (n_samples,), for example using ravel().\n",
      "c:\\users\\soum bartowski\\anaconda3\\lib\\site-packages\\ipykernel_launcher.py:45: DataConversionWarning: A column-vector y was passed when a 1d array was expected. Please change the shape of y to (n_samples,), for example using ravel().\n",
      "c:\\users\\soum bartowski\\anaconda3\\lib\\site-packages\\ipykernel_launcher.py:45: DataConversionWarning: A column-vector y was passed when a 1d array was expected. Please change the shape of y to (n_samples,), for example using ravel().\n",
      "c:\\users\\soum bartowski\\anaconda3\\lib\\site-packages\\ipykernel_launcher.py:45: DataConversionWarning: A column-vector y was passed when a 1d array was expected. Please change the shape of y to (n_samples,), for example using ravel().\n",
      "c:\\users\\soum bartowski\\anaconda3\\lib\\site-packages\\ipykernel_launcher.py:45: DataConversionWarning: A column-vector y was passed when a 1d array was expected. Please change the shape of y to (n_samples,), for example using ravel().\n",
      "c:\\users\\soum bartowski\\anaconda3\\lib\\site-packages\\ipykernel_launcher.py:45: DataConversionWarning: A column-vector y was passed when a 1d array was expected. Please change the shape of y to (n_samples,), for example using ravel().\n",
      "c:\\users\\soum bartowski\\anaconda3\\lib\\site-packages\\ipykernel_launcher.py:45: DataConversionWarning: A column-vector y was passed when a 1d array was expected. Please change the shape of y to (n_samples,), for example using ravel().\n",
      "c:\\users\\soum bartowski\\anaconda3\\lib\\site-packages\\ipykernel_launcher.py:45: DataConversionWarning: A column-vector y was passed when a 1d array was expected. Please change the shape of y to (n_samples,), for example using ravel().\n",
      "c:\\users\\soum bartowski\\anaconda3\\lib\\site-packages\\ipykernel_launcher.py:45: DataConversionWarning: A column-vector y was passed when a 1d array was expected. Please change the shape of y to (n_samples,), for example using ravel().\n",
      "c:\\users\\soum bartowski\\anaconda3\\lib\\site-packages\\ipykernel_launcher.py:45: DataConversionWarning: A column-vector y was passed when a 1d array was expected. Please change the shape of y to (n_samples,), for example using ravel().\n",
      "c:\\users\\soum bartowski\\anaconda3\\lib\\site-packages\\ipykernel_launcher.py:45: DataConversionWarning: A column-vector y was passed when a 1d array was expected. Please change the shape of y to (n_samples,), for example using ravel().\n",
      "c:\\users\\soum bartowski\\anaconda3\\lib\\site-packages\\ipykernel_launcher.py:45: DataConversionWarning: A column-vector y was passed when a 1d array was expected. Please change the shape of y to (n_samples,), for example using ravel().\n",
      "c:\\users\\soum bartowski\\anaconda3\\lib\\site-packages\\ipykernel_launcher.py:45: DataConversionWarning: A column-vector y was passed when a 1d array was expected. Please change the shape of y to (n_samples,), for example using ravel().\n",
      "c:\\users\\soum bartowski\\anaconda3\\lib\\site-packages\\ipykernel_launcher.py:45: DataConversionWarning: A column-vector y was passed when a 1d array was expected. Please change the shape of y to (n_samples,), for example using ravel().\n",
      "c:\\users\\soum bartowski\\anaconda3\\lib\\site-packages\\ipykernel_launcher.py:45: DataConversionWarning: A column-vector y was passed when a 1d array was expected. Please change the shape of y to (n_samples,), for example using ravel().\n",
      "c:\\users\\soum bartowski\\anaconda3\\lib\\site-packages\\ipykernel_launcher.py:45: DataConversionWarning: A column-vector y was passed when a 1d array was expected. Please change the shape of y to (n_samples,), for example using ravel().\n",
      "c:\\users\\soum bartowski\\anaconda3\\lib\\site-packages\\ipykernel_launcher.py:45: DataConversionWarning: A column-vector y was passed when a 1d array was expected. Please change the shape of y to (n_samples,), for example using ravel().\n",
      "c:\\users\\soum bartowski\\anaconda3\\lib\\site-packages\\ipykernel_launcher.py:45: DataConversionWarning: A column-vector y was passed when a 1d array was expected. Please change the shape of y to (n_samples,), for example using ravel().\n",
      "c:\\users\\soum bartowski\\anaconda3\\lib\\site-packages\\ipykernel_launcher.py:45: DataConversionWarning: A column-vector y was passed when a 1d array was expected. Please change the shape of y to (n_samples,), for example using ravel().\n",
      "c:\\users\\soum bartowski\\anaconda3\\lib\\site-packages\\ipykernel_launcher.py:45: DataConversionWarning: A column-vector y was passed when a 1d array was expected. Please change the shape of y to (n_samples,), for example using ravel().\n",
      "c:\\users\\soum bartowski\\anaconda3\\lib\\site-packages\\ipykernel_launcher.py:45: DataConversionWarning: A column-vector y was passed when a 1d array was expected. Please change the shape of y to (n_samples,), for example using ravel().\n",
      "c:\\users\\soum bartowski\\anaconda3\\lib\\site-packages\\ipykernel_launcher.py:45: DataConversionWarning: A column-vector y was passed when a 1d array was expected. Please change the shape of y to (n_samples,), for example using ravel().\n",
      "c:\\users\\soum bartowski\\anaconda3\\lib\\site-packages\\ipykernel_launcher.py:45: DataConversionWarning: A column-vector y was passed when a 1d array was expected. Please change the shape of y to (n_samples,), for example using ravel().\n",
      "c:\\users\\soum bartowski\\anaconda3\\lib\\site-packages\\ipykernel_launcher.py:45: DataConversionWarning: A column-vector y was passed when a 1d array was expected. Please change the shape of y to (n_samples,), for example using ravel().\n",
      "c:\\users\\soum bartowski\\anaconda3\\lib\\site-packages\\ipykernel_launcher.py:45: DataConversionWarning: A column-vector y was passed when a 1d array was expected. Please change the shape of y to (n_samples,), for example using ravel().\n",
      "c:\\users\\soum bartowski\\anaconda3\\lib\\site-packages\\ipykernel_launcher.py:45: DataConversionWarning: A column-vector y was passed when a 1d array was expected. Please change the shape of y to (n_samples,), for example using ravel().\n",
      "c:\\users\\soum bartowski\\anaconda3\\lib\\site-packages\\ipykernel_launcher.py:45: DataConversionWarning: A column-vector y was passed when a 1d array was expected. Please change the shape of y to (n_samples,), for example using ravel().\n",
      "c:\\users\\soum bartowski\\anaconda3\\lib\\site-packages\\ipykernel_launcher.py:45: DataConversionWarning: A column-vector y was passed when a 1d array was expected. Please change the shape of y to (n_samples,), for example using ravel().\n",
      "c:\\users\\soum bartowski\\anaconda3\\lib\\site-packages\\ipykernel_launcher.py:45: DataConversionWarning: A column-vector y was passed when a 1d array was expected. Please change the shape of y to (n_samples,), for example using ravel().\n",
      "c:\\users\\soum bartowski\\anaconda3\\lib\\site-packages\\ipykernel_launcher.py:45: DataConversionWarning: A column-vector y was passed when a 1d array was expected. Please change the shape of y to (n_samples,), for example using ravel().\n",
      "c:\\users\\soum bartowski\\anaconda3\\lib\\site-packages\\ipykernel_launcher.py:45: DataConversionWarning: A column-vector y was passed when a 1d array was expected. Please change the shape of y to (n_samples,), for example using ravel().\n",
      "c:\\users\\soum bartowski\\anaconda3\\lib\\site-packages\\ipykernel_launcher.py:45: DataConversionWarning: A column-vector y was passed when a 1d array was expected. Please change the shape of y to (n_samples,), for example using ravel().\n",
      "c:\\users\\soum bartowski\\anaconda3\\lib\\site-packages\\ipykernel_launcher.py:45: DataConversionWarning: A column-vector y was passed when a 1d array was expected. Please change the shape of y to (n_samples,), for example using ravel().\n",
      "c:\\users\\soum bartowski\\anaconda3\\lib\\site-packages\\ipykernel_launcher.py:45: DataConversionWarning: A column-vector y was passed when a 1d array was expected. Please change the shape of y to (n_samples,), for example using ravel().\n",
      "c:\\users\\soum bartowski\\anaconda3\\lib\\site-packages\\ipykernel_launcher.py:45: DataConversionWarning: A column-vector y was passed when a 1d array was expected. Please change the shape of y to (n_samples,), for example using ravel().\n",
      "c:\\users\\soum bartowski\\anaconda3\\lib\\site-packages\\ipykernel_launcher.py:45: DataConversionWarning: A column-vector y was passed when a 1d array was expected. Please change the shape of y to (n_samples,), for example using ravel().\n",
      "c:\\users\\soum bartowski\\anaconda3\\lib\\site-packages\\ipykernel_launcher.py:45: DataConversionWarning: A column-vector y was passed when a 1d array was expected. Please change the shape of y to (n_samples,), for example using ravel().\n",
      "c:\\users\\soum bartowski\\anaconda3\\lib\\site-packages\\ipykernel_launcher.py:45: DataConversionWarning: A column-vector y was passed when a 1d array was expected. Please change the shape of y to (n_samples,), for example using ravel().\n",
      "c:\\users\\soum bartowski\\anaconda3\\lib\\site-packages\\ipykernel_launcher.py:45: DataConversionWarning: A column-vector y was passed when a 1d array was expected. Please change the shape of y to (n_samples,), for example using ravel().\n",
      "c:\\users\\soum bartowski\\anaconda3\\lib\\site-packages\\ipykernel_launcher.py:45: DataConversionWarning: A column-vector y was passed when a 1d array was expected. Please change the shape of y to (n_samples,), for example using ravel().\n",
      "c:\\users\\soum bartowski\\anaconda3\\lib\\site-packages\\ipykernel_launcher.py:45: DataConversionWarning: A column-vector y was passed when a 1d array was expected. Please change the shape of y to (n_samples,), for example using ravel().\n",
      "c:\\users\\soum bartowski\\anaconda3\\lib\\site-packages\\ipykernel_launcher.py:45: DataConversionWarning: A column-vector y was passed when a 1d array was expected. Please change the shape of y to (n_samples,), for example using ravel().\n",
      "c:\\users\\soum bartowski\\anaconda3\\lib\\site-packages\\ipykernel_launcher.py:45: DataConversionWarning: A column-vector y was passed when a 1d array was expected. Please change the shape of y to (n_samples,), for example using ravel().\n",
      "c:\\users\\soum bartowski\\anaconda3\\lib\\site-packages\\ipykernel_launcher.py:45: DataConversionWarning: A column-vector y was passed when a 1d array was expected. Please change the shape of y to (n_samples,), for example using ravel().\n",
      "c:\\users\\soum bartowski\\anaconda3\\lib\\site-packages\\ipykernel_launcher.py:45: DataConversionWarning: A column-vector y was passed when a 1d array was expected. Please change the shape of y to (n_samples,), for example using ravel().\n",
      "c:\\users\\soum bartowski\\anaconda3\\lib\\site-packages\\ipykernel_launcher.py:45: DataConversionWarning: A column-vector y was passed when a 1d array was expected. Please change the shape of y to (n_samples,), for example using ravel().\n",
      "c:\\users\\soum bartowski\\anaconda3\\lib\\site-packages\\ipykernel_launcher.py:45: DataConversionWarning: A column-vector y was passed when a 1d array was expected. Please change the shape of y to (n_samples,), for example using ravel().\n",
      "c:\\users\\soum bartowski\\anaconda3\\lib\\site-packages\\ipykernel_launcher.py:45: DataConversionWarning: A column-vector y was passed when a 1d array was expected. Please change the shape of y to (n_samples,), for example using ravel().\n",
      "c:\\users\\soum bartowski\\anaconda3\\lib\\site-packages\\ipykernel_launcher.py:45: DataConversionWarning: A column-vector y was passed when a 1d array was expected. Please change the shape of y to (n_samples,), for example using ravel().\n",
      "c:\\users\\soum bartowski\\anaconda3\\lib\\site-packages\\ipykernel_launcher.py:45: DataConversionWarning: A column-vector y was passed when a 1d array was expected. Please change the shape of y to (n_samples,), for example using ravel().\n",
      "c:\\users\\soum bartowski\\anaconda3\\lib\\site-packages\\ipykernel_launcher.py:45: DataConversionWarning: A column-vector y was passed when a 1d array was expected. Please change the shape of y to (n_samples,), for example using ravel().\n",
      "c:\\users\\soum bartowski\\anaconda3\\lib\\site-packages\\ipykernel_launcher.py:45: DataConversionWarning: A column-vector y was passed when a 1d array was expected. Please change the shape of y to (n_samples,), for example using ravel().\n",
      "c:\\users\\soum bartowski\\anaconda3\\lib\\site-packages\\ipykernel_launcher.py:45: DataConversionWarning: A column-vector y was passed when a 1d array was expected. Please change the shape of y to (n_samples,), for example using ravel().\n",
      "c:\\users\\soum bartowski\\anaconda3\\lib\\site-packages\\ipykernel_launcher.py:45: DataConversionWarning: A column-vector y was passed when a 1d array was expected. Please change the shape of y to (n_samples,), for example using ravel().\n",
      "c:\\users\\soum bartowski\\anaconda3\\lib\\site-packages\\ipykernel_launcher.py:45: DataConversionWarning: A column-vector y was passed when a 1d array was expected. Please change the shape of y to (n_samples,), for example using ravel().\n",
      "c:\\users\\soum bartowski\\anaconda3\\lib\\site-packages\\ipykernel_launcher.py:45: DataConversionWarning: A column-vector y was passed when a 1d array was expected. Please change the shape of y to (n_samples,), for example using ravel().\n",
      "c:\\users\\soum bartowski\\anaconda3\\lib\\site-packages\\ipykernel_launcher.py:45: DataConversionWarning: A column-vector y was passed when a 1d array was expected. Please change the shape of y to (n_samples,), for example using ravel().\n",
      "c:\\users\\soum bartowski\\anaconda3\\lib\\site-packages\\ipykernel_launcher.py:45: DataConversionWarning: A column-vector y was passed when a 1d array was expected. Please change the shape of y to (n_samples,), for example using ravel().\n",
      "c:\\users\\soum bartowski\\anaconda3\\lib\\site-packages\\ipykernel_launcher.py:45: DataConversionWarning: A column-vector y was passed when a 1d array was expected. Please change the shape of y to (n_samples,), for example using ravel().\n",
      "c:\\users\\soum bartowski\\anaconda3\\lib\\site-packages\\ipykernel_launcher.py:45: DataConversionWarning: A column-vector y was passed when a 1d array was expected. Please change the shape of y to (n_samples,), for example using ravel().\n",
      "c:\\users\\soum bartowski\\anaconda3\\lib\\site-packages\\ipykernel_launcher.py:45: DataConversionWarning: A column-vector y was passed when a 1d array was expected. Please change the shape of y to (n_samples,), for example using ravel().\n",
      "c:\\users\\soum bartowski\\anaconda3\\lib\\site-packages\\ipykernel_launcher.py:45: DataConversionWarning: A column-vector y was passed when a 1d array was expected. Please change the shape of y to (n_samples,), for example using ravel().\n",
      "c:\\users\\soum bartowski\\anaconda3\\lib\\site-packages\\ipykernel_launcher.py:45: DataConversionWarning: A column-vector y was passed when a 1d array was expected. Please change the shape of y to (n_samples,), for example using ravel().\n",
      "c:\\users\\soum bartowski\\anaconda3\\lib\\site-packages\\ipykernel_launcher.py:45: DataConversionWarning: A column-vector y was passed when a 1d array was expected. Please change the shape of y to (n_samples,), for example using ravel().\n",
      "c:\\users\\soum bartowski\\anaconda3\\lib\\site-packages\\ipykernel_launcher.py:45: DataConversionWarning: A column-vector y was passed when a 1d array was expected. Please change the shape of y to (n_samples,), for example using ravel().\n",
      "c:\\users\\soum bartowski\\anaconda3\\lib\\site-packages\\ipykernel_launcher.py:45: DataConversionWarning: A column-vector y was passed when a 1d array was expected. Please change the shape of y to (n_samples,), for example using ravel().\n",
      "c:\\users\\soum bartowski\\anaconda3\\lib\\site-packages\\ipykernel_launcher.py:45: DataConversionWarning: A column-vector y was passed when a 1d array was expected. Please change the shape of y to (n_samples,), for example using ravel().\n",
      "c:\\users\\soum bartowski\\anaconda3\\lib\\site-packages\\ipykernel_launcher.py:45: DataConversionWarning: A column-vector y was passed when a 1d array was expected. Please change the shape of y to (n_samples,), for example using ravel().\n",
      "c:\\users\\soum bartowski\\anaconda3\\lib\\site-packages\\ipykernel_launcher.py:45: DataConversionWarning: A column-vector y was passed when a 1d array was expected. Please change the shape of y to (n_samples,), for example using ravel().\n",
      "c:\\users\\soum bartowski\\anaconda3\\lib\\site-packages\\ipykernel_launcher.py:45: DataConversionWarning: A column-vector y was passed when a 1d array was expected. Please change the shape of y to (n_samples,), for example using ravel().\n",
      "c:\\users\\soum bartowski\\anaconda3\\lib\\site-packages\\ipykernel_launcher.py:45: DataConversionWarning: A column-vector y was passed when a 1d array was expected. Please change the shape of y to (n_samples,), for example using ravel().\n",
      "c:\\users\\soum bartowski\\anaconda3\\lib\\site-packages\\ipykernel_launcher.py:45: DataConversionWarning: A column-vector y was passed when a 1d array was expected. Please change the shape of y to (n_samples,), for example using ravel().\n"
     ]
    }
   ],
   "source": [
    "rf = RandomForestClassifier(n_estimators= 100,max_features='log2')\n",
    "rfDF,rf_pred,rf_prob = model_boot(clf=rf,xtest=testDF,num_boot=100)"
   ]
  },
  {
   "cell_type": "code",
   "execution_count": 59,
   "metadata": {},
   "outputs": [
    {
     "data": {
      "text/plain": [
       "(array([0, 1]), array([1340,  577], dtype=int64))"
      ]
     },
     "execution_count": 59,
     "metadata": {},
     "output_type": "execute_result"
    }
   ],
   "source": [
    "np.unique(rf_pred,return_counts=True)"
   ]
  },
  {
   "cell_type": "code",
   "execution_count": 60,
   "metadata": {},
   "outputs": [
    {
     "data": {
      "text/html": [
       "<div>\n",
       "<style>\n",
       "    .dataframe thead tr:only-child th {\n",
       "        text-align: right;\n",
       "    }\n",
       "\n",
       "    .dataframe thead th {\n",
       "        text-align: left;\n",
       "    }\n",
       "\n",
       "    .dataframe tbody tr th {\n",
       "        vertical-align: top;\n",
       "    }\n",
       "</style>\n",
       "<table border=\"1\" class=\"dataframe\">\n",
       "  <thead>\n",
       "    <tr style=\"text-align: right;\">\n",
       "      <th></th>\n",
       "      <th>Iteration</th>\n",
       "      <th>accuracy</th>\n",
       "      <th>f1</th>\n",
       "      <th>precision</th>\n",
       "      <th>recall</th>\n",
       "    </tr>\n",
       "  </thead>\n",
       "  <tbody>\n",
       "    <tr>\n",
       "      <th>63</th>\n",
       "      <td>64</td>\n",
       "      <td>1.000000</td>\n",
       "      <td>1.000000</td>\n",
       "      <td>1.000000</td>\n",
       "      <td>1.000000</td>\n",
       "    </tr>\n",
       "    <tr>\n",
       "      <th>98</th>\n",
       "      <td>99</td>\n",
       "      <td>0.994444</td>\n",
       "      <td>1.000000</td>\n",
       "      <td>0.989691</td>\n",
       "      <td>0.994819</td>\n",
       "    </tr>\n",
       "    <tr>\n",
       "      <th>97</th>\n",
       "      <td>98</td>\n",
       "      <td>0.994444</td>\n",
       "      <td>1.000000</td>\n",
       "      <td>0.987805</td>\n",
       "      <td>0.993865</td>\n",
       "    </tr>\n",
       "    <tr>\n",
       "      <th>28</th>\n",
       "      <td>29</td>\n",
       "      <td>0.994444</td>\n",
       "      <td>1.000000</td>\n",
       "      <td>0.988095</td>\n",
       "      <td>0.994012</td>\n",
       "    </tr>\n",
       "    <tr>\n",
       "      <th>69</th>\n",
       "      <td>70</td>\n",
       "      <td>0.994444</td>\n",
       "      <td>0.989247</td>\n",
       "      <td>1.000000</td>\n",
       "      <td>0.994595</td>\n",
       "    </tr>\n",
       "  </tbody>\n",
       "</table>\n",
       "</div>"
      ],
      "text/plain": [
       "    Iteration  accuracy        f1  precision    recall\n",
       "63         64  1.000000  1.000000   1.000000  1.000000\n",
       "98         99  0.994444  1.000000   0.989691  0.994819\n",
       "97         98  0.994444  1.000000   0.987805  0.993865\n",
       "28         29  0.994444  1.000000   0.988095  0.994012\n",
       "69         70  0.994444  0.989247   1.000000  0.994595"
      ]
     },
     "execution_count": 60,
     "metadata": {},
     "output_type": "execute_result"
    }
   ],
   "source": [
    "df.sort_values(by=\"accuracy\",ascending=False).head()"
   ]
  },
  {
   "cell_type": "code",
   "execution_count": 61,
   "metadata": {},
   "outputs": [
    {
     "name": "stderr",
     "output_type": "stream",
     "text": [
      "c:\\users\\soum bartowski\\anaconda3\\lib\\site-packages\\sklearn\\utils\\validation.py:526: DataConversionWarning: A column-vector y was passed when a 1d array was expected. Please change the shape of y to (n_samples, ), for example using ravel().\n",
      "  y = column_or_1d(y, warn=True)\n",
      "c:\\users\\soum bartowski\\anaconda3\\lib\\site-packages\\sklearn\\utils\\validation.py:526: DataConversionWarning: A column-vector y was passed when a 1d array was expected. Please change the shape of y to (n_samples, ), for example using ravel().\n",
      "  y = column_or_1d(y, warn=True)\n",
      "c:\\users\\soum bartowski\\anaconda3\\lib\\site-packages\\sklearn\\utils\\validation.py:526: DataConversionWarning: A column-vector y was passed when a 1d array was expected. Please change the shape of y to (n_samples, ), for example using ravel().\n",
      "  y = column_or_1d(y, warn=True)\n",
      "c:\\users\\soum bartowski\\anaconda3\\lib\\site-packages\\sklearn\\utils\\validation.py:526: DataConversionWarning: A column-vector y was passed when a 1d array was expected. Please change the shape of y to (n_samples, ), for example using ravel().\n",
      "  y = column_or_1d(y, warn=True)\n",
      "c:\\users\\soum bartowski\\anaconda3\\lib\\site-packages\\sklearn\\utils\\validation.py:526: DataConversionWarning: A column-vector y was passed when a 1d array was expected. Please change the shape of y to (n_samples, ), for example using ravel().\n",
      "  y = column_or_1d(y, warn=True)\n",
      "c:\\users\\soum bartowski\\anaconda3\\lib\\site-packages\\sklearn\\utils\\validation.py:526: DataConversionWarning: A column-vector y was passed when a 1d array was expected. Please change the shape of y to (n_samples, ), for example using ravel().\n",
      "  y = column_or_1d(y, warn=True)\n",
      "c:\\users\\soum bartowski\\anaconda3\\lib\\site-packages\\sklearn\\utils\\validation.py:526: DataConversionWarning: A column-vector y was passed when a 1d array was expected. Please change the shape of y to (n_samples, ), for example using ravel().\n",
      "  y = column_or_1d(y, warn=True)\n",
      "c:\\users\\soum bartowski\\anaconda3\\lib\\site-packages\\sklearn\\utils\\validation.py:526: DataConversionWarning: A column-vector y was passed when a 1d array was expected. Please change the shape of y to (n_samples, ), for example using ravel().\n",
      "  y = column_or_1d(y, warn=True)\n",
      "c:\\users\\soum bartowski\\anaconda3\\lib\\site-packages\\sklearn\\utils\\validation.py:526: DataConversionWarning: A column-vector y was passed when a 1d array was expected. Please change the shape of y to (n_samples, ), for example using ravel().\n",
      "  y = column_or_1d(y, warn=True)\n",
      "c:\\users\\soum bartowski\\anaconda3\\lib\\site-packages\\sklearn\\utils\\validation.py:526: DataConversionWarning: A column-vector y was passed when a 1d array was expected. Please change the shape of y to (n_samples, ), for example using ravel().\n",
      "  y = column_or_1d(y, warn=True)\n",
      "c:\\users\\soum bartowski\\anaconda3\\lib\\site-packages\\sklearn\\utils\\validation.py:526: DataConversionWarning: A column-vector y was passed when a 1d array was expected. Please change the shape of y to (n_samples, ), for example using ravel().\n",
      "  y = column_or_1d(y, warn=True)\n",
      "c:\\users\\soum bartowski\\anaconda3\\lib\\site-packages\\sklearn\\utils\\validation.py:526: DataConversionWarning: A column-vector y was passed when a 1d array was expected. Please change the shape of y to (n_samples, ), for example using ravel().\n",
      "  y = column_or_1d(y, warn=True)\n",
      "c:\\users\\soum bartowski\\anaconda3\\lib\\site-packages\\sklearn\\utils\\validation.py:526: DataConversionWarning: A column-vector y was passed when a 1d array was expected. Please change the shape of y to (n_samples, ), for example using ravel().\n",
      "  y = column_or_1d(y, warn=True)\n",
      "c:\\users\\soum bartowski\\anaconda3\\lib\\site-packages\\sklearn\\utils\\validation.py:526: DataConversionWarning: A column-vector y was passed when a 1d array was expected. Please change the shape of y to (n_samples, ), for example using ravel().\n",
      "  y = column_or_1d(y, warn=True)\n",
      "c:\\users\\soum bartowski\\anaconda3\\lib\\site-packages\\sklearn\\utils\\validation.py:526: DataConversionWarning: A column-vector y was passed when a 1d array was expected. Please change the shape of y to (n_samples, ), for example using ravel().\n",
      "  y = column_or_1d(y, warn=True)\n",
      "c:\\users\\soum bartowski\\anaconda3\\lib\\site-packages\\sklearn\\utils\\validation.py:526: DataConversionWarning: A column-vector y was passed when a 1d array was expected. Please change the shape of y to (n_samples, ), for example using ravel().\n",
      "  y = column_or_1d(y, warn=True)\n",
      "c:\\users\\soum bartowski\\anaconda3\\lib\\site-packages\\sklearn\\utils\\validation.py:526: DataConversionWarning: A column-vector y was passed when a 1d array was expected. Please change the shape of y to (n_samples, ), for example using ravel().\n",
      "  y = column_or_1d(y, warn=True)\n",
      "c:\\users\\soum bartowski\\anaconda3\\lib\\site-packages\\sklearn\\utils\\validation.py:526: DataConversionWarning: A column-vector y was passed when a 1d array was expected. Please change the shape of y to (n_samples, ), for example using ravel().\n",
      "  y = column_or_1d(y, warn=True)\n",
      "c:\\users\\soum bartowski\\anaconda3\\lib\\site-packages\\sklearn\\utils\\validation.py:526: DataConversionWarning: A column-vector y was passed when a 1d array was expected. Please change the shape of y to (n_samples, ), for example using ravel().\n",
      "  y = column_or_1d(y, warn=True)\n",
      "c:\\users\\soum bartowski\\anaconda3\\lib\\site-packages\\sklearn\\utils\\validation.py:526: DataConversionWarning: A column-vector y was passed when a 1d array was expected. Please change the shape of y to (n_samples, ), for example using ravel().\n",
      "  y = column_or_1d(y, warn=True)\n",
      "c:\\users\\soum bartowski\\anaconda3\\lib\\site-packages\\sklearn\\utils\\validation.py:526: DataConversionWarning: A column-vector y was passed when a 1d array was expected. Please change the shape of y to (n_samples, ), for example using ravel().\n",
      "  y = column_or_1d(y, warn=True)\n",
      "c:\\users\\soum bartowski\\anaconda3\\lib\\site-packages\\sklearn\\utils\\validation.py:526: DataConversionWarning: A column-vector y was passed when a 1d array was expected. Please change the shape of y to (n_samples, ), for example using ravel().\n",
      "  y = column_or_1d(y, warn=True)\n",
      "c:\\users\\soum bartowski\\anaconda3\\lib\\site-packages\\sklearn\\utils\\validation.py:526: DataConversionWarning: A column-vector y was passed when a 1d array was expected. Please change the shape of y to (n_samples, ), for example using ravel().\n",
      "  y = column_or_1d(y, warn=True)\n",
      "c:\\users\\soum bartowski\\anaconda3\\lib\\site-packages\\sklearn\\utils\\validation.py:526: DataConversionWarning: A column-vector y was passed when a 1d array was expected. Please change the shape of y to (n_samples, ), for example using ravel().\n",
      "  y = column_or_1d(y, warn=True)\n",
      "c:\\users\\soum bartowski\\anaconda3\\lib\\site-packages\\sklearn\\utils\\validation.py:526: DataConversionWarning: A column-vector y was passed when a 1d array was expected. Please change the shape of y to (n_samples, ), for example using ravel().\n",
      "  y = column_or_1d(y, warn=True)\n",
      "c:\\users\\soum bartowski\\anaconda3\\lib\\site-packages\\sklearn\\utils\\validation.py:526: DataConversionWarning: A column-vector y was passed when a 1d array was expected. Please change the shape of y to (n_samples, ), for example using ravel().\n",
      "  y = column_or_1d(y, warn=True)\n",
      "c:\\users\\soum bartowski\\anaconda3\\lib\\site-packages\\sklearn\\utils\\validation.py:526: DataConversionWarning: A column-vector y was passed when a 1d array was expected. Please change the shape of y to (n_samples, ), for example using ravel().\n",
      "  y = column_or_1d(y, warn=True)\n",
      "c:\\users\\soum bartowski\\anaconda3\\lib\\site-packages\\sklearn\\utils\\validation.py:526: DataConversionWarning: A column-vector y was passed when a 1d array was expected. Please change the shape of y to (n_samples, ), for example using ravel().\n",
      "  y = column_or_1d(y, warn=True)\n",
      "c:\\users\\soum bartowski\\anaconda3\\lib\\site-packages\\sklearn\\utils\\validation.py:526: DataConversionWarning: A column-vector y was passed when a 1d array was expected. Please change the shape of y to (n_samples, ), for example using ravel().\n",
      "  y = column_or_1d(y, warn=True)\n",
      "c:\\users\\soum bartowski\\anaconda3\\lib\\site-packages\\sklearn\\utils\\validation.py:526: DataConversionWarning: A column-vector y was passed when a 1d array was expected. Please change the shape of y to (n_samples, ), for example using ravel().\n",
      "  y = column_or_1d(y, warn=True)\n",
      "c:\\users\\soum bartowski\\anaconda3\\lib\\site-packages\\sklearn\\utils\\validation.py:526: DataConversionWarning: A column-vector y was passed when a 1d array was expected. Please change the shape of y to (n_samples, ), for example using ravel().\n",
      "  y = column_or_1d(y, warn=True)\n",
      "c:\\users\\soum bartowski\\anaconda3\\lib\\site-packages\\sklearn\\utils\\validation.py:526: DataConversionWarning: A column-vector y was passed when a 1d array was expected. Please change the shape of y to (n_samples, ), for example using ravel().\n",
      "  y = column_or_1d(y, warn=True)\n",
      "c:\\users\\soum bartowski\\anaconda3\\lib\\site-packages\\sklearn\\utils\\validation.py:526: DataConversionWarning: A column-vector y was passed when a 1d array was expected. Please change the shape of y to (n_samples, ), for example using ravel().\n",
      "  y = column_or_1d(y, warn=True)\n",
      "c:\\users\\soum bartowski\\anaconda3\\lib\\site-packages\\sklearn\\utils\\validation.py:526: DataConversionWarning: A column-vector y was passed when a 1d array was expected. Please change the shape of y to (n_samples, ), for example using ravel().\n",
      "  y = column_or_1d(y, warn=True)\n",
      "c:\\users\\soum bartowski\\anaconda3\\lib\\site-packages\\sklearn\\utils\\validation.py:526: DataConversionWarning: A column-vector y was passed when a 1d array was expected. Please change the shape of y to (n_samples, ), for example using ravel().\n",
      "  y = column_or_1d(y, warn=True)\n",
      "c:\\users\\soum bartowski\\anaconda3\\lib\\site-packages\\sklearn\\utils\\validation.py:526: DataConversionWarning: A column-vector y was passed when a 1d array was expected. Please change the shape of y to (n_samples, ), for example using ravel().\n",
      "  y = column_or_1d(y, warn=True)\n",
      "c:\\users\\soum bartowski\\anaconda3\\lib\\site-packages\\sklearn\\utils\\validation.py:526: DataConversionWarning: A column-vector y was passed when a 1d array was expected. Please change the shape of y to (n_samples, ), for example using ravel().\n",
      "  y = column_or_1d(y, warn=True)\n",
      "c:\\users\\soum bartowski\\anaconda3\\lib\\site-packages\\sklearn\\utils\\validation.py:526: DataConversionWarning: A column-vector y was passed when a 1d array was expected. Please change the shape of y to (n_samples, ), for example using ravel().\n",
      "  y = column_or_1d(y, warn=True)\n",
      "c:\\users\\soum bartowski\\anaconda3\\lib\\site-packages\\sklearn\\utils\\validation.py:526: DataConversionWarning: A column-vector y was passed when a 1d array was expected. Please change the shape of y to (n_samples, ), for example using ravel().\n",
      "  y = column_or_1d(y, warn=True)\n",
      "c:\\users\\soum bartowski\\anaconda3\\lib\\site-packages\\sklearn\\utils\\validation.py:526: DataConversionWarning: A column-vector y was passed when a 1d array was expected. Please change the shape of y to (n_samples, ), for example using ravel().\n",
      "  y = column_or_1d(y, warn=True)\n",
      "c:\\users\\soum bartowski\\anaconda3\\lib\\site-packages\\sklearn\\utils\\validation.py:526: DataConversionWarning: A column-vector y was passed when a 1d array was expected. Please change the shape of y to (n_samples, ), for example using ravel().\n",
      "  y = column_or_1d(y, warn=True)\n",
      "c:\\users\\soum bartowski\\anaconda3\\lib\\site-packages\\sklearn\\utils\\validation.py:526: DataConversionWarning: A column-vector y was passed when a 1d array was expected. Please change the shape of y to (n_samples, ), for example using ravel().\n",
      "  y = column_or_1d(y, warn=True)\n",
      "c:\\users\\soum bartowski\\anaconda3\\lib\\site-packages\\sklearn\\utils\\validation.py:526: DataConversionWarning: A column-vector y was passed when a 1d array was expected. Please change the shape of y to (n_samples, ), for example using ravel().\n",
      "  y = column_or_1d(y, warn=True)\n",
      "c:\\users\\soum bartowski\\anaconda3\\lib\\site-packages\\sklearn\\utils\\validation.py:526: DataConversionWarning: A column-vector y was passed when a 1d array was expected. Please change the shape of y to (n_samples, ), for example using ravel().\n",
      "  y = column_or_1d(y, warn=True)\n",
      "c:\\users\\soum bartowski\\anaconda3\\lib\\site-packages\\sklearn\\utils\\validation.py:526: DataConversionWarning: A column-vector y was passed when a 1d array was expected. Please change the shape of y to (n_samples, ), for example using ravel().\n",
      "  y = column_or_1d(y, warn=True)\n",
      "c:\\users\\soum bartowski\\anaconda3\\lib\\site-packages\\sklearn\\utils\\validation.py:526: DataConversionWarning: A column-vector y was passed when a 1d array was expected. Please change the shape of y to (n_samples, ), for example using ravel().\n",
      "  y = column_or_1d(y, warn=True)\n",
      "c:\\users\\soum bartowski\\anaconda3\\lib\\site-packages\\sklearn\\utils\\validation.py:526: DataConversionWarning: A column-vector y was passed when a 1d array was expected. Please change the shape of y to (n_samples, ), for example using ravel().\n",
      "  y = column_or_1d(y, warn=True)\n",
      "c:\\users\\soum bartowski\\anaconda3\\lib\\site-packages\\sklearn\\utils\\validation.py:526: DataConversionWarning: A column-vector y was passed when a 1d array was expected. Please change the shape of y to (n_samples, ), for example using ravel().\n",
      "  y = column_or_1d(y, warn=True)\n",
      "c:\\users\\soum bartowski\\anaconda3\\lib\\site-packages\\sklearn\\utils\\validation.py:526: DataConversionWarning: A column-vector y was passed when a 1d array was expected. Please change the shape of y to (n_samples, ), for example using ravel().\n",
      "  y = column_or_1d(y, warn=True)\n",
      "c:\\users\\soum bartowski\\anaconda3\\lib\\site-packages\\sklearn\\utils\\validation.py:526: DataConversionWarning: A column-vector y was passed when a 1d array was expected. Please change the shape of y to (n_samples, ), for example using ravel().\n",
      "  y = column_or_1d(y, warn=True)\n",
      "c:\\users\\soum bartowski\\anaconda3\\lib\\site-packages\\sklearn\\utils\\validation.py:526: DataConversionWarning: A column-vector y was passed when a 1d array was expected. Please change the shape of y to (n_samples, ), for example using ravel().\n",
      "  y = column_or_1d(y, warn=True)\n",
      "c:\\users\\soum bartowski\\anaconda3\\lib\\site-packages\\sklearn\\utils\\validation.py:526: DataConversionWarning: A column-vector y was passed when a 1d array was expected. Please change the shape of y to (n_samples, ), for example using ravel().\n",
      "  y = column_or_1d(y, warn=True)\n",
      "c:\\users\\soum bartowski\\anaconda3\\lib\\site-packages\\sklearn\\utils\\validation.py:526: DataConversionWarning: A column-vector y was passed when a 1d array was expected. Please change the shape of y to (n_samples, ), for example using ravel().\n",
      "  y = column_or_1d(y, warn=True)\n",
      "c:\\users\\soum bartowski\\anaconda3\\lib\\site-packages\\sklearn\\utils\\validation.py:526: DataConversionWarning: A column-vector y was passed when a 1d array was expected. Please change the shape of y to (n_samples, ), for example using ravel().\n",
      "  y = column_or_1d(y, warn=True)\n",
      "c:\\users\\soum bartowski\\anaconda3\\lib\\site-packages\\sklearn\\utils\\validation.py:526: DataConversionWarning: A column-vector y was passed when a 1d array was expected. Please change the shape of y to (n_samples, ), for example using ravel().\n",
      "  y = column_or_1d(y, warn=True)\n",
      "c:\\users\\soum bartowski\\anaconda3\\lib\\site-packages\\sklearn\\utils\\validation.py:526: DataConversionWarning: A column-vector y was passed when a 1d array was expected. Please change the shape of y to (n_samples, ), for example using ravel().\n",
      "  y = column_or_1d(y, warn=True)\n",
      "c:\\users\\soum bartowski\\anaconda3\\lib\\site-packages\\sklearn\\utils\\validation.py:526: DataConversionWarning: A column-vector y was passed when a 1d array was expected. Please change the shape of y to (n_samples, ), for example using ravel().\n",
      "  y = column_or_1d(y, warn=True)\n",
      "c:\\users\\soum bartowski\\anaconda3\\lib\\site-packages\\sklearn\\utils\\validation.py:526: DataConversionWarning: A column-vector y was passed when a 1d array was expected. Please change the shape of y to (n_samples, ), for example using ravel().\n",
      "  y = column_or_1d(y, warn=True)\n",
      "c:\\users\\soum bartowski\\anaconda3\\lib\\site-packages\\sklearn\\utils\\validation.py:526: DataConversionWarning: A column-vector y was passed when a 1d array was expected. Please change the shape of y to (n_samples, ), for example using ravel().\n",
      "  y = column_or_1d(y, warn=True)\n",
      "c:\\users\\soum bartowski\\anaconda3\\lib\\site-packages\\sklearn\\utils\\validation.py:526: DataConversionWarning: A column-vector y was passed when a 1d array was expected. Please change the shape of y to (n_samples, ), for example using ravel().\n",
      "  y = column_or_1d(y, warn=True)\n",
      "c:\\users\\soum bartowski\\anaconda3\\lib\\site-packages\\sklearn\\utils\\validation.py:526: DataConversionWarning: A column-vector y was passed when a 1d array was expected. Please change the shape of y to (n_samples, ), for example using ravel().\n",
      "  y = column_or_1d(y, warn=True)\n",
      "c:\\users\\soum bartowski\\anaconda3\\lib\\site-packages\\sklearn\\utils\\validation.py:526: DataConversionWarning: A column-vector y was passed when a 1d array was expected. Please change the shape of y to (n_samples, ), for example using ravel().\n",
      "  y = column_or_1d(y, warn=True)\n",
      "c:\\users\\soum bartowski\\anaconda3\\lib\\site-packages\\sklearn\\utils\\validation.py:526: DataConversionWarning: A column-vector y was passed when a 1d array was expected. Please change the shape of y to (n_samples, ), for example using ravel().\n",
      "  y = column_or_1d(y, warn=True)\n",
      "c:\\users\\soum bartowski\\anaconda3\\lib\\site-packages\\sklearn\\utils\\validation.py:526: DataConversionWarning: A column-vector y was passed when a 1d array was expected. Please change the shape of y to (n_samples, ), for example using ravel().\n",
      "  y = column_or_1d(y, warn=True)\n",
      "c:\\users\\soum bartowski\\anaconda3\\lib\\site-packages\\sklearn\\utils\\validation.py:526: DataConversionWarning: A column-vector y was passed when a 1d array was expected. Please change the shape of y to (n_samples, ), for example using ravel().\n",
      "  y = column_or_1d(y, warn=True)\n",
      "c:\\users\\soum bartowski\\anaconda3\\lib\\site-packages\\sklearn\\utils\\validation.py:526: DataConversionWarning: A column-vector y was passed when a 1d array was expected. Please change the shape of y to (n_samples, ), for example using ravel().\n",
      "  y = column_or_1d(y, warn=True)\n",
      "c:\\users\\soum bartowski\\anaconda3\\lib\\site-packages\\sklearn\\utils\\validation.py:526: DataConversionWarning: A column-vector y was passed when a 1d array was expected. Please change the shape of y to (n_samples, ), for example using ravel().\n",
      "  y = column_or_1d(y, warn=True)\n",
      "c:\\users\\soum bartowski\\anaconda3\\lib\\site-packages\\sklearn\\utils\\validation.py:526: DataConversionWarning: A column-vector y was passed when a 1d array was expected. Please change the shape of y to (n_samples, ), for example using ravel().\n",
      "  y = column_or_1d(y, warn=True)\n",
      "c:\\users\\soum bartowski\\anaconda3\\lib\\site-packages\\sklearn\\utils\\validation.py:526: DataConversionWarning: A column-vector y was passed when a 1d array was expected. Please change the shape of y to (n_samples, ), for example using ravel().\n",
      "  y = column_or_1d(y, warn=True)\n",
      "c:\\users\\soum bartowski\\anaconda3\\lib\\site-packages\\sklearn\\utils\\validation.py:526: DataConversionWarning: A column-vector y was passed when a 1d array was expected. Please change the shape of y to (n_samples, ), for example using ravel().\n",
      "  y = column_or_1d(y, warn=True)\n",
      "c:\\users\\soum bartowski\\anaconda3\\lib\\site-packages\\sklearn\\utils\\validation.py:526: DataConversionWarning: A column-vector y was passed when a 1d array was expected. Please change the shape of y to (n_samples, ), for example using ravel().\n",
      "  y = column_or_1d(y, warn=True)\n",
      "c:\\users\\soum bartowski\\anaconda3\\lib\\site-packages\\sklearn\\utils\\validation.py:526: DataConversionWarning: A column-vector y was passed when a 1d array was expected. Please change the shape of y to (n_samples, ), for example using ravel().\n",
      "  y = column_or_1d(y, warn=True)\n",
      "c:\\users\\soum bartowski\\anaconda3\\lib\\site-packages\\sklearn\\utils\\validation.py:526: DataConversionWarning: A column-vector y was passed when a 1d array was expected. Please change the shape of y to (n_samples, ), for example using ravel().\n",
      "  y = column_or_1d(y, warn=True)\n",
      "c:\\users\\soum bartowski\\anaconda3\\lib\\site-packages\\sklearn\\utils\\validation.py:526: DataConversionWarning: A column-vector y was passed when a 1d array was expected. Please change the shape of y to (n_samples, ), for example using ravel().\n",
      "  y = column_or_1d(y, warn=True)\n",
      "c:\\users\\soum bartowski\\anaconda3\\lib\\site-packages\\sklearn\\utils\\validation.py:526: DataConversionWarning: A column-vector y was passed when a 1d array was expected. Please change the shape of y to (n_samples, ), for example using ravel().\n",
      "  y = column_or_1d(y, warn=True)\n",
      "c:\\users\\soum bartowski\\anaconda3\\lib\\site-packages\\sklearn\\utils\\validation.py:526: DataConversionWarning: A column-vector y was passed when a 1d array was expected. Please change the shape of y to (n_samples, ), for example using ravel().\n",
      "  y = column_or_1d(y, warn=True)\n",
      "c:\\users\\soum bartowski\\anaconda3\\lib\\site-packages\\sklearn\\utils\\validation.py:526: DataConversionWarning: A column-vector y was passed when a 1d array was expected. Please change the shape of y to (n_samples, ), for example using ravel().\n",
      "  y = column_or_1d(y, warn=True)\n",
      "c:\\users\\soum bartowski\\anaconda3\\lib\\site-packages\\sklearn\\utils\\validation.py:526: DataConversionWarning: A column-vector y was passed when a 1d array was expected. Please change the shape of y to (n_samples, ), for example using ravel().\n",
      "  y = column_or_1d(y, warn=True)\n",
      "c:\\users\\soum bartowski\\anaconda3\\lib\\site-packages\\sklearn\\utils\\validation.py:526: DataConversionWarning: A column-vector y was passed when a 1d array was expected. Please change the shape of y to (n_samples, ), for example using ravel().\n",
      "  y = column_or_1d(y, warn=True)\n",
      "c:\\users\\soum bartowski\\anaconda3\\lib\\site-packages\\sklearn\\utils\\validation.py:526: DataConversionWarning: A column-vector y was passed when a 1d array was expected. Please change the shape of y to (n_samples, ), for example using ravel().\n",
      "  y = column_or_1d(y, warn=True)\n",
      "c:\\users\\soum bartowski\\anaconda3\\lib\\site-packages\\sklearn\\utils\\validation.py:526: DataConversionWarning: A column-vector y was passed when a 1d array was expected. Please change the shape of y to (n_samples, ), for example using ravel().\n",
      "  y = column_or_1d(y, warn=True)\n",
      "c:\\users\\soum bartowski\\anaconda3\\lib\\site-packages\\sklearn\\utils\\validation.py:526: DataConversionWarning: A column-vector y was passed when a 1d array was expected. Please change the shape of y to (n_samples, ), for example using ravel().\n",
      "  y = column_or_1d(y, warn=True)\n",
      "c:\\users\\soum bartowski\\anaconda3\\lib\\site-packages\\sklearn\\utils\\validation.py:526: DataConversionWarning: A column-vector y was passed when a 1d array was expected. Please change the shape of y to (n_samples, ), for example using ravel().\n",
      "  y = column_or_1d(y, warn=True)\n",
      "c:\\users\\soum bartowski\\anaconda3\\lib\\site-packages\\sklearn\\utils\\validation.py:526: DataConversionWarning: A column-vector y was passed when a 1d array was expected. Please change the shape of y to (n_samples, ), for example using ravel().\n",
      "  y = column_or_1d(y, warn=True)\n",
      "c:\\users\\soum bartowski\\anaconda3\\lib\\site-packages\\sklearn\\utils\\validation.py:526: DataConversionWarning: A column-vector y was passed when a 1d array was expected. Please change the shape of y to (n_samples, ), for example using ravel().\n",
      "  y = column_or_1d(y, warn=True)\n",
      "c:\\users\\soum bartowski\\anaconda3\\lib\\site-packages\\sklearn\\utils\\validation.py:526: DataConversionWarning: A column-vector y was passed when a 1d array was expected. Please change the shape of y to (n_samples, ), for example using ravel().\n",
      "  y = column_or_1d(y, warn=True)\n",
      "c:\\users\\soum bartowski\\anaconda3\\lib\\site-packages\\sklearn\\utils\\validation.py:526: DataConversionWarning: A column-vector y was passed when a 1d array was expected. Please change the shape of y to (n_samples, ), for example using ravel().\n",
      "  y = column_or_1d(y, warn=True)\n",
      "c:\\users\\soum bartowski\\anaconda3\\lib\\site-packages\\sklearn\\utils\\validation.py:526: DataConversionWarning: A column-vector y was passed when a 1d array was expected. Please change the shape of y to (n_samples, ), for example using ravel().\n",
      "  y = column_or_1d(y, warn=True)\n",
      "c:\\users\\soum bartowski\\anaconda3\\lib\\site-packages\\sklearn\\utils\\validation.py:526: DataConversionWarning: A column-vector y was passed when a 1d array was expected. Please change the shape of y to (n_samples, ), for example using ravel().\n",
      "  y = column_or_1d(y, warn=True)\n",
      "c:\\users\\soum bartowski\\anaconda3\\lib\\site-packages\\sklearn\\utils\\validation.py:526: DataConversionWarning: A column-vector y was passed when a 1d array was expected. Please change the shape of y to (n_samples, ), for example using ravel().\n",
      "  y = column_or_1d(y, warn=True)\n",
      "c:\\users\\soum bartowski\\anaconda3\\lib\\site-packages\\sklearn\\utils\\validation.py:526: DataConversionWarning: A column-vector y was passed when a 1d array was expected. Please change the shape of y to (n_samples, ), for example using ravel().\n",
      "  y = column_or_1d(y, warn=True)\n",
      "c:\\users\\soum bartowski\\anaconda3\\lib\\site-packages\\sklearn\\utils\\validation.py:526: DataConversionWarning: A column-vector y was passed when a 1d array was expected. Please change the shape of y to (n_samples, ), for example using ravel().\n",
      "  y = column_or_1d(y, warn=True)\n",
      "c:\\users\\soum bartowski\\anaconda3\\lib\\site-packages\\sklearn\\utils\\validation.py:526: DataConversionWarning: A column-vector y was passed when a 1d array was expected. Please change the shape of y to (n_samples, ), for example using ravel().\n",
      "  y = column_or_1d(y, warn=True)\n",
      "c:\\users\\soum bartowski\\anaconda3\\lib\\site-packages\\sklearn\\utils\\validation.py:526: DataConversionWarning: A column-vector y was passed when a 1d array was expected. Please change the shape of y to (n_samples, ), for example using ravel().\n",
      "  y = column_or_1d(y, warn=True)\n",
      "c:\\users\\soum bartowski\\anaconda3\\lib\\site-packages\\sklearn\\utils\\validation.py:526: DataConversionWarning: A column-vector y was passed when a 1d array was expected. Please change the shape of y to (n_samples, ), for example using ravel().\n",
      "  y = column_or_1d(y, warn=True)\n",
      "c:\\users\\soum bartowski\\anaconda3\\lib\\site-packages\\sklearn\\utils\\validation.py:526: DataConversionWarning: A column-vector y was passed when a 1d array was expected. Please change the shape of y to (n_samples, ), for example using ravel().\n",
      "  y = column_or_1d(y, warn=True)\n",
      "c:\\users\\soum bartowski\\anaconda3\\lib\\site-packages\\sklearn\\utils\\validation.py:526: DataConversionWarning: A column-vector y was passed when a 1d array was expected. Please change the shape of y to (n_samples, ), for example using ravel().\n",
      "  y = column_or_1d(y, warn=True)\n",
      "c:\\users\\soum bartowski\\anaconda3\\lib\\site-packages\\sklearn\\utils\\validation.py:526: DataConversionWarning: A column-vector y was passed when a 1d array was expected. Please change the shape of y to (n_samples, ), for example using ravel().\n",
      "  y = column_or_1d(y, warn=True)\n",
      "c:\\users\\soum bartowski\\anaconda3\\lib\\site-packages\\sklearn\\utils\\validation.py:526: DataConversionWarning: A column-vector y was passed when a 1d array was expected. Please change the shape of y to (n_samples, ), for example using ravel().\n",
      "  y = column_or_1d(y, warn=True)\n",
      "c:\\users\\soum bartowski\\anaconda3\\lib\\site-packages\\sklearn\\utils\\validation.py:526: DataConversionWarning: A column-vector y was passed when a 1d array was expected. Please change the shape of y to (n_samples, ), for example using ravel().\n",
      "  y = column_or_1d(y, warn=True)\n"
     ]
    }
   ],
   "source": [
    "bag = BaggingClassifier(n_estimators=100)\n",
    "bagDF,bag_pred,bag_prob = model_boot(clf=bag,xtest=testDF,num_boot=100)"
   ]
  },
  {
   "cell_type": "code",
   "execution_count": 33,
   "metadata": {},
   "outputs": [
    {
     "data": {
      "text/html": [
       "<div>\n",
       "<style>\n",
       "    .dataframe thead tr:only-child th {\n",
       "        text-align: right;\n",
       "    }\n",
       "\n",
       "    .dataframe thead th {\n",
       "        text-align: left;\n",
       "    }\n",
       "\n",
       "    .dataframe tbody tr th {\n",
       "        vertical-align: top;\n",
       "    }\n",
       "</style>\n",
       "<table border=\"1\" class=\"dataframe\">\n",
       "  <thead>\n",
       "    <tr style=\"text-align: right;\">\n",
       "      <th></th>\n",
       "      <th>Iteration</th>\n",
       "      <th>accuracy</th>\n",
       "      <th>f1</th>\n",
       "      <th>precision</th>\n",
       "      <th>recall</th>\n",
       "    </tr>\n",
       "  </thead>\n",
       "  <tbody>\n",
       "    <tr>\n",
       "      <th>63</th>\n",
       "      <td>64</td>\n",
       "      <td>1.000000</td>\n",
       "      <td>1.000000</td>\n",
       "      <td>1.000000</td>\n",
       "      <td>1.000000</td>\n",
       "    </tr>\n",
       "    <tr>\n",
       "      <th>98</th>\n",
       "      <td>99</td>\n",
       "      <td>0.994444</td>\n",
       "      <td>1.000000</td>\n",
       "      <td>0.989691</td>\n",
       "      <td>0.994819</td>\n",
       "    </tr>\n",
       "    <tr>\n",
       "      <th>97</th>\n",
       "      <td>98</td>\n",
       "      <td>0.994444</td>\n",
       "      <td>1.000000</td>\n",
       "      <td>0.987805</td>\n",
       "      <td>0.993865</td>\n",
       "    </tr>\n",
       "    <tr>\n",
       "      <th>28</th>\n",
       "      <td>29</td>\n",
       "      <td>0.994444</td>\n",
       "      <td>1.000000</td>\n",
       "      <td>0.988095</td>\n",
       "      <td>0.994012</td>\n",
       "    </tr>\n",
       "    <tr>\n",
       "      <th>69</th>\n",
       "      <td>70</td>\n",
       "      <td>0.994444</td>\n",
       "      <td>0.989247</td>\n",
       "      <td>1.000000</td>\n",
       "      <td>0.994595</td>\n",
       "    </tr>\n",
       "    <tr>\n",
       "      <th>32</th>\n",
       "      <td>33</td>\n",
       "      <td>0.988889</td>\n",
       "      <td>0.978495</td>\n",
       "      <td>1.000000</td>\n",
       "      <td>0.989130</td>\n",
       "    </tr>\n",
       "    <tr>\n",
       "      <th>76</th>\n",
       "      <td>77</td>\n",
       "      <td>0.988889</td>\n",
       "      <td>1.000000</td>\n",
       "      <td>0.977778</td>\n",
       "      <td>0.988764</td>\n",
       "    </tr>\n",
       "    <tr>\n",
       "      <th>21</th>\n",
       "      <td>22</td>\n",
       "      <td>0.988889</td>\n",
       "      <td>0.990000</td>\n",
       "      <td>0.990000</td>\n",
       "      <td>0.990000</td>\n",
       "    </tr>\n",
       "    <tr>\n",
       "      <th>33</th>\n",
       "      <td>34</td>\n",
       "      <td>0.988889</td>\n",
       "      <td>0.980392</td>\n",
       "      <td>1.000000</td>\n",
       "      <td>0.990099</td>\n",
       "    </tr>\n",
       "    <tr>\n",
       "      <th>73</th>\n",
       "      <td>74</td>\n",
       "      <td>0.988889</td>\n",
       "      <td>0.988235</td>\n",
       "      <td>0.988235</td>\n",
       "      <td>0.988235</td>\n",
       "    </tr>\n",
       "  </tbody>\n",
       "</table>\n",
       "</div>"
      ],
      "text/plain": [
       "    Iteration  accuracy        f1  precision    recall\n",
       "63         64  1.000000  1.000000   1.000000  1.000000\n",
       "98         99  0.994444  1.000000   0.989691  0.994819\n",
       "97         98  0.994444  1.000000   0.987805  0.993865\n",
       "28         29  0.994444  1.000000   0.988095  0.994012\n",
       "69         70  0.994444  0.989247   1.000000  0.994595\n",
       "32         33  0.988889  0.978495   1.000000  0.989130\n",
       "76         77  0.988889  1.000000   0.977778  0.988764\n",
       "21         22  0.988889  0.990000   0.990000  0.990000\n",
       "33         34  0.988889  0.980392   1.000000  0.990099\n",
       "73         74  0.988889  0.988235   0.988235  0.988235"
      ]
     },
     "execution_count": 33,
     "metadata": {},
     "output_type": "execute_result"
    }
   ],
   "source": [
    "bagDF.sort_values(by=\"accuracy\",ascending=False).head(10)"
   ]
  },
  {
   "cell_type": "code",
   "execution_count": 127,
   "metadata": {},
   "outputs": [
    {
     "data": {
      "text/plain": [
       "(array([0, 1]), array([1317,  600], dtype=int64))"
      ]
     },
     "execution_count": 127,
     "metadata": {},
     "output_type": "execute_result"
    }
   ],
   "source": [
    "np.unique(bag_pred,return_counts=True)"
   ]
  },
  {
   "cell_type": "markdown",
   "metadata": {},
   "source": [
    "## GradientBoosting"
   ]
  },
  {
   "cell_type": "code",
   "execution_count": 63,
   "metadata": {},
   "outputs": [
    {
     "name": "stderr",
     "output_type": "stream",
     "text": [
      "c:\\users\\soum bartowski\\anaconda3\\lib\\site-packages\\sklearn\\utils\\validation.py:526: DataConversionWarning: A column-vector y was passed when a 1d array was expected. Please change the shape of y to (n_samples, ), for example using ravel().\n",
      "  y = column_or_1d(y, warn=True)\n"
     ]
    }
   ],
   "source": [
    "gradb = GradientBoostingClassifier(learning_rate= 0.001, max_depth=9, n_estimators=100,subsample=0.5)\n",
    "gradbDFDF,gradb_pred,gradb_prob = model_boot(clf=gradb,xtest=testDF,num_boot=100)"
   ]
  },
  {
   "cell_type": "code",
   "execution_count": 64,
   "metadata": {},
   "outputs": [
    {
     "name": "stderr",
     "output_type": "stream",
     "text": [
      "c:\\users\\soum bartowski\\anaconda3\\lib\\site-packages\\ipykernel_launcher.py:45: DataConversionWarning: A column-vector y was passed when a 1d array was expected. Please change the shape of y to (n_samples, ), for example using ravel().\n"
     ]
    }
   ],
   "source": [
    "knn = KNeighborsClassifier(metric='manhattan',n_neighbors=3, weights='uniform')\n",
    "knnDF,knn_pred,knn_prob = model_boot(clf=knn,xtest=testDF,num_boot=100)"
   ]
  },
  {
   "cell_type": "code",
   "execution_count": 65,
   "metadata": {},
   "outputs": [
    {
     "data": {
      "text/plain": [
       "(array([0, 1]), array([1392,  525], dtype=int64))"
      ]
     },
     "execution_count": 65,
     "metadata": {},
     "output_type": "execute_result"
    }
   ],
   "source": [
    "np.unique(gradb_pred,return_counts=True)"
   ]
  },
  {
   "cell_type": "code",
   "execution_count": 76,
   "metadata": {},
   "outputs": [],
   "source": [
    "predBoot = pd.DataFrame({'rf':rf_pred,'bagging':bag_pred,'gradientBoost':gradb_pred})\n",
    "probBoot = pd.DataFrame({'rf':rf_prob[1],'bagging':bag_prob[1],'gradientBoost':gradb_prob[1]})\n",
    "predBoot[\"somme\"]=predBoot.sum(axis=1)\n",
    "probBoot[\"mean\"]=probBoot.mean(axis=1)"
   ]
  },
  {
   "cell_type": "code",
   "execution_count": 91,
   "metadata": {},
   "outputs": [
    {
     "data": {
      "text/plain": [
       "(582, 4)"
      ]
     },
     "execution_count": 91,
     "metadata": {},
     "output_type": "execute_result"
    }
   ],
   "source": [
    "predBoot[predBoot[\"somme\"]>=2].shape"
   ]
  },
  {
   "cell_type": "code",
   "execution_count": 161,
   "metadata": {},
   "outputs": [],
   "source": [
    "vec = np.zeros(1917)\n",
    "submit = pd.DataFrame({'seqID':range(len(vec)),'anomaly':bag_pred})"
   ]
  },
  {
   "cell_type": "code",
   "execution_count": 152,
   "metadata": {},
   "outputs": [],
   "source": [
    "ind = submit[submit[\"anomaly\"]==1].index"
   ]
  },
  {
   "cell_type": "code",
   "execution_count": 154,
   "metadata": {},
   "outputs": [],
   "source": [
    "ind_prob06 = probBoot[probBoot[\"mean\"]>=0.6].index\n",
    "for i in ind_prob06:\n",
    "    submit.iloc[i,0]=1"
   ]
  },
  {
   "cell_type": "code",
   "execution_count": 156,
   "metadata": {},
   "outputs": [
    {
     "data": {
      "text/plain": [
       "(600, 2)"
      ]
     },
     "execution_count": 156,
     "metadata": {},
     "output_type": "execute_result"
    }
   ],
   "source": [
    "submit[submit[\"anomaly\"]==1].shape"
   ]
  },
  {
   "cell_type": "code",
   "execution_count": 162,
   "metadata": {},
   "outputs": [
    {
     "data": {
      "text/plain": [
       "(600, 2)"
      ]
     },
     "execution_count": 162,
     "metadata": {},
     "output_type": "execute_result"
    }
   ],
   "source": [
    "submit[submit[\"anomaly\"]==1].shape"
   ]
  },
  {
   "cell_type": "code",
   "execution_count": 164,
   "metadata": {},
   "outputs": [],
   "source": [
    "submit.to_csv('submit001.csv',sep=\";\",index=False)"
   ]
  },
  {
   "cell_type": "code",
   "execution_count": 172,
   "metadata": {
    "collapsed": true,
    "jupyter": {
     "outputs_hidden": true
    }
   },
   "outputs": [
    {
     "name": "stdout",
     "output_type": "stream",
     "text": [
      "[]\n",
      "\n",
      "\n",
      "[1, 4, 12, 13, 14, 16, 26, 27, 29, 31, 33, 36, 45, 52, 56, 63, 71, 76, 81, 83, 84, 85, 88, 89, 98, 102, 106, 108, 110, 114, 125, 128, 129, 130, 136, 137, 140, 141, 146, 154, 158, 168, 171, 172, 180, 186, 191, 193, 194, 199, 201, 208, 209, 215, 217, 218, 226, 231, 235, 237, 239, 244, 246, 257, 260, 273, 276, 279, 280, 286, 292, 293, 300, 304, 305, 307, 312, 329, 332, 334, 335, 336, 346, 353, 359, 362, 363, 368, 371, 381, 387, 396, 399, 412, 417, 428, 439, 446, 450, 451, 452, 457, 464, 468, 470, 477, 478, 482, 483, 489, 490, 492, 495, 502, 505, 507, 512, 517, 518, 524, 525, 527, 530, 545, 546, 548, 562, 575, 578, 582, 593, 594, 610, 611, 617, 623, 634, 637, 640, 642, 657, 659, 661, 664, 682, 685, 688, 690, 692, 698, 699, 711, 715, 716, 717, 719, 729, 731, 733, 740, 745, 747, 750, 753, 754, 755, 757, 763, 768, 771, 772, 781, 782, 783, 784, 788, 798, 802, 803, 805, 810, 811, 816, 817, 823, 824, 828, 831, 832, 836, 842, 849, 852, 855, 857, 867, 870, 881, 882, 886, 888, 890, 903, 905, 907, 912, 914, 915, 916, 918, 927, 936, 942, 943, 945, 948, 949, 950, 955, 957, 958, 960, 964, 967, 970, 971, 975, 976, 977, 985, 986, 989, 994, 999, 1014, 1018, 1021, 1022, 1024, 1028, 1029, 1032, 1051, 1057, 1058, 1061, 1063, 1065, 1066, 1068, 1073, 1076, 1077, 1079, 1080, 1082, 1087, 1091, 1092, 1093, 1096, 1103, 1112, 1122, 1132, 1135, 1145, 1146, 1147, 1149, 1153, 1155, 1156, 1165, 1169, 1172, 1173, 1180, 1186, 1190, 1191, 1193, 1195, 1199, 1204, 1207, 1215, 1217, 1218, 1255, 1264, 1265, 1267, 1277, 1279, 1284, 1289, 1290, 1295, 1297, 1300, 1302, 1306, 1308, 1309, 1310, 1316, 1332, 1333, 1338, 1344, 1349, 1353, 1354, 1364, 1368, 1369, 1378, 1382, 1383, 1388, 1391, 1393, 1401, 1407, 1409, 1413, 1417, 1428, 1429, 1430, 1431, 1433, 1441, 1443, 1444, 1449, 1451, 1453, 1454, 1456, 1457, 1458, 1465, 1467, 1468, 1470, 1471, 1472, 1478, 1480, 1494, 1495, 1503, 1505, 1506, 1513, 1515, 1523, 1527, 1529, 1546, 1550, 1554, 1556, 1557, 1565, 1577, 1584, 1585, 1586, 1591, 1603, 1614, 1615, 1616, 1619, 1622, 1625, 1629, 1634, 1635, 1638, 1641, 1644, 1651, 1656, 1659, 1660, 1662, 1664, 1665, 1666, 1670, 1690, 1693, 1704, 1705, 1707, 1709, 1710, 1714, 1716, 1723, 1724, 1726, 1729, 1737, 1743, 1745, 1756, 1760, 1763, 1764, 1767, 1770, 1773, 1782, 1783, 1790, 1801, 1805, 1809, 1818, 1821, 1823, 1826, 1830, 1842, 1845, 1848, 1849, 1856, 1863, 1868, 1869, 1879, 1886, 1893, 1902, 1908, 1910, 1912, 1913]\n"
     ]
    }
   ],
   "source": [
    "li1 = []\n",
    "li0 = []\n",
    "for i in range(len(ind_prob06)):\n",
    "    if ind_prob06[i] in ind_rf:\n",
    "        li1.append(ind_prob06[i])\n",
    "    else: \n",
    "        li0.append(ind_prob06[i])\n",
    "    \n",
    "print(li0)\n",
    "print(\"\\n\")\n",
    "print(li1)"
   ]
  },
  {
   "cell_type": "code",
   "execution_count": 188,
   "metadata": {},
   "outputs": [
    {
     "data": {
      "text/plain": [
       "744"
      ]
     },
     "execution_count": 188,
     "metadata": {},
     "output_type": "execute_result"
    }
   ],
   "source": [
    "len(ind_mod_grid)"
   ]
  },
  {
   "cell_type": "code",
   "execution_count": 201,
   "metadata": {},
   "outputs": [
    {
     "data": {
      "text/plain": [
       "444"
      ]
     },
     "execution_count": 201,
     "metadata": {},
     "output_type": "execute_result"
    }
   ],
   "source": [
    "len(ind_prob06)"
   ]
  },
  {
   "cell_type": "code",
   "execution_count": 224,
   "metadata": {},
   "outputs": [],
   "source": [
    "ind = bagDF[bagDF[\"pred\"]==1].index"
   ]
  },
  {
   "cell_type": "code",
   "execution_count": 228,
   "metadata": {},
   "outputs": [],
   "source": [
    "ind_pred = pred[pred[\"anomaly\"]==1].index"
   ]
  },
  {
   "cell_type": "code",
   "execution_count": 229,
   "metadata": {},
   "outputs": [
    {
     "name": "stdout",
     "output_type": "stream",
     "text": [
      "107\n",
      "\n",
      "\n",
      "759\n"
     ]
    }
   ],
   "source": [
    "li1 = []\n",
    "li0 = []\n",
    "for i in range(len(ind)):\n",
    "    if ind[i] in ind_pred:\n",
    "        li1.append(ind[i])\n",
    "    else: \n",
    "        li0.append(ind[i])\n",
    "    \n",
    "print(len(li0))\n",
    "print(\"\\n\")\n",
    "print(len(li1))"
   ]
  },
  {
   "cell_type": "code",
   "execution_count": 250,
   "metadata": {},
   "outputs": [
    {
     "data": {
      "text/plain": [
       "(1917, 4)"
      ]
     },
     "execution_count": 250,
     "metadata": {},
     "output_type": "execute_result"
    }
   ],
   "source": [
    "pred = pd.read_csv(\"submit001.csv\",sep=\";\")\n",
    "pred.shape"
   ]
  },
  {
   "cell_type": "code",
   "execution_count": 243,
   "metadata": {},
   "outputs": [
    {
     "data": {
      "text/plain": [
       "(796, 4)"
      ]
     },
     "execution_count": 243,
     "metadata": {},
     "output_type": "execute_result"
    }
   ],
   "source": [
    "pred[pred[\"anomaly\"]==1].shape"
   ]
  },
  {
   "cell_type": "code",
   "execution_count": 230,
   "metadata": {},
   "outputs": [],
   "source": [
    "plot_courbe(li0,'new_107')"
   ]
  },
  {
   "cell_type": "code",
   "execution_count": 244,
   "metadata": {},
   "outputs": [],
   "source": [
    "l=[66,94,121,176,190,197,202,228,290,358,400,415,416,456,563,577,607,710,616,638,681,689,982,1013,1072,1084,1159,1177,1200,1266,1285,1311,1380,1403,1152,1416,1559,1567,1676,1774]"
   ]
  },
  {
   "cell_type": "code",
   "execution_count": 245,
   "metadata": {},
   "outputs": [],
   "source": [
    "for i in l:\n",
    "    pred.iloc[i,0]=1  "
   ]
  },
  {
   "cell_type": "code",
   "execution_count": 249,
   "metadata": {},
   "outputs": [
    {
     "data": {
      "text/html": [
       "<div>\n",
       "<style>\n",
       "    .dataframe thead tr:only-child th {\n",
       "        text-align: right;\n",
       "    }\n",
       "\n",
       "    .dataframe thead th {\n",
       "        text-align: left;\n",
       "    }\n",
       "\n",
       "    .dataframe tbody tr th {\n",
       "        vertical-align: top;\n",
       "    }\n",
       "</style>\n",
       "<table border=\"1\" class=\"dataframe\">\n",
       "  <thead>\n",
       "    <tr style=\"text-align: right;\">\n",
       "      <th></th>\n",
       "      <th>seqID</th>\n",
       "      <th>anomaly</th>\n",
       "      <th>Unnamed: 2</th>\n",
       "      <th>Unnamed: 3</th>\n",
       "    </tr>\n",
       "  </thead>\n",
       "  <tbody>\n",
       "    <tr>\n",
       "      <th>0</th>\n",
       "      <td>0</td>\n",
       "      <td>0</td>\n",
       "      <td>NaN</td>\n",
       "      <td>796.0</td>\n",
       "    </tr>\n",
       "    <tr>\n",
       "      <th>1</th>\n",
       "      <td>1</td>\n",
       "      <td>1</td>\n",
       "      <td>NaN</td>\n",
       "      <td>NaN</td>\n",
       "    </tr>\n",
       "    <tr>\n",
       "      <th>2</th>\n",
       "      <td>2</td>\n",
       "      <td>0</td>\n",
       "      <td>NaN</td>\n",
       "      <td>NaN</td>\n",
       "    </tr>\n",
       "    <tr>\n",
       "      <th>3</th>\n",
       "      <td>3</td>\n",
       "      <td>0</td>\n",
       "      <td>NaN</td>\n",
       "      <td>NaN</td>\n",
       "    </tr>\n",
       "    <tr>\n",
       "      <th>4</th>\n",
       "      <td>4</td>\n",
       "      <td>1</td>\n",
       "      <td>NaN</td>\n",
       "      <td>NaN</td>\n",
       "    </tr>\n",
       "  </tbody>\n",
       "</table>\n",
       "</div>"
      ],
      "text/plain": [
       "   seqID  anomaly  Unnamed: 2  Unnamed: 3\n",
       "0      0        0         NaN       796.0\n",
       "1      1        1         NaN         NaN\n",
       "2      2        0         NaN         NaN\n",
       "3      3        0         NaN         NaN\n",
       "4      4        1         NaN         NaN"
      ]
     },
     "execution_count": 249,
     "metadata": {},
     "output_type": "execute_result"
    }
   ],
   "source": [
    "pred.head()"
   ]
  },
  {
   "cell_type": "code",
   "execution_count": 236,
   "metadata": {},
   "outputs": [],
   "source": [
    "bagDF.to_csv(\"submit003.csv\",sep=\";\")"
   ]
  },
  {
   "cell_type": "code",
   "execution_count": 118,
   "metadata": {},
   "outputs": [],
   "source": [
    "ind_grad = list(predBoot[predBoot['gradientBoost']==1].index)\n",
    "ind_not_boot = [x for x in ind_grad if x not in ind_prob06]"
   ]
  },
  {
   "cell_type": "code",
   "execution_count": 119,
   "metadata": {},
   "outputs": [],
   "source": [
    "def plot_courbe(l,path):\n",
    "    import matplotlib.pyplot as plt\n",
    "    for ind in l:\n",
    "        chemin=\"Plots/\"+path+\"/\"+str(ind)+\".png\"\n",
    "        plt.plot(test.iloc[ind,:])\n",
    "        plt.savefig(chemin)\n",
    "        plt.clf()"
   ]
  },
  {
   "cell_type": "code",
   "execution_count": 120,
   "metadata": {},
   "outputs": [],
   "source": [
    "plot_courbe(ind_not_boot,'grad_boot')"
   ]
  },
  {
   "cell_type": "code",
   "execution_count": 157,
   "metadata": {},
   "outputs": [],
   "source": [
    "l1 = [341,549,576,840,1062,1070,1101,1139,1335,1380,1596,1647,1696,1794,1795,344,684,925,1158,1168,1266,1335,1501,1722]\n",
    "for i in l1:\n",
    "    submit.iloc[i,0]=1"
   ]
  },
  {
   "cell_type": "code",
   "execution_count": 160,
   "metadata": {},
   "outputs": [
    {
     "data": {
      "text/plain": [
       "(613, 2)"
      ]
     },
     "execution_count": 160,
     "metadata": {},
     "output_type": "execute_result"
    }
   ],
   "source": [
    "submit[submit[\"anomaly\"]==1].shape"
   ]
  },
  {
   "cell_type": "code",
   "execution_count": 126,
   "metadata": {},
   "outputs": [
    {
     "data": {
      "text/html": [
       "<div>\n",
       "<style>\n",
       "    .dataframe thead tr:only-child th {\n",
       "        text-align: right;\n",
       "    }\n",
       "\n",
       "    .dataframe thead th {\n",
       "        text-align: left;\n",
       "    }\n",
       "\n",
       "    .dataframe tbody tr th {\n",
       "        vertical-align: top;\n",
       "    }\n",
       "</style>\n",
       "<table border=\"1\" class=\"dataframe\">\n",
       "  <thead>\n",
       "    <tr style=\"text-align: right;\">\n",
       "      <th></th>\n",
       "      <th>anomaly</th>\n",
       "      <th>seqID</th>\n",
       "    </tr>\n",
       "  </thead>\n",
       "  <tbody>\n",
       "    <tr>\n",
       "      <th>0</th>\n",
       "      <td>0</td>\n",
       "      <td>0</td>\n",
       "    </tr>\n",
       "    <tr>\n",
       "      <th>1</th>\n",
       "      <td>1</td>\n",
       "      <td>1</td>\n",
       "    </tr>\n",
       "    <tr>\n",
       "      <th>2</th>\n",
       "      <td>0</td>\n",
       "      <td>2</td>\n",
       "    </tr>\n",
       "    <tr>\n",
       "      <th>3</th>\n",
       "      <td>0</td>\n",
       "      <td>3</td>\n",
       "    </tr>\n",
       "    <tr>\n",
       "      <th>4</th>\n",
       "      <td>1</td>\n",
       "      <td>4</td>\n",
       "    </tr>\n",
       "  </tbody>\n",
       "</table>\n",
       "</div>"
      ],
      "text/plain": [
       "   anomaly  seqID\n",
       "0        0      0\n",
       "1        1      1\n",
       "2        0      2\n",
       "3        0      3\n",
       "4        1      4"
      ]
     },
     "execution_count": 126,
     "metadata": {},
     "output_type": "execute_result"
    }
   ],
   "source": [
    "submit.head()"
   ]
  },
  {
   "cell_type": "markdown",
   "metadata": {},
   "source": [
    "### Comparaison Bootstrap & Grid Search"
   ]
  },
  {
   "cell_type": "code",
   "execution_count": 102,
   "metadata": {},
   "outputs": [
    {
     "ename": "TypeError",
     "evalue": "'type' object is not subscriptable",
     "output_type": "error",
     "traceback": [
      "\u001b[1;31m---------------------------------------------------------------------------\u001b[0m",
      "\u001b[1;31mTypeError\u001b[0m                                 Traceback (most recent call last)",
      "\u001b[1;32m<ipython-input-102-6bf6916f4f3f>\u001b[0m in \u001b[0;36m<module>\u001b[1;34m()\u001b[0m\n\u001b[0;32m      1\u001b[0m \u001b[0mgrid_bag_ind1\u001b[0m \u001b[1;33m=\u001b[0m \u001b[0mbagDF\u001b[0m\u001b[1;33m[\u001b[0m\u001b[0mbagDF\u001b[0m\u001b[1;33m[\u001b[0m\u001b[1;34m\"pred\"\u001b[0m\u001b[1;33m]\u001b[0m\u001b[1;33m==\u001b[0m\u001b[1;36m1\u001b[0m\u001b[1;33m]\u001b[0m\u001b[1;33m.\u001b[0m\u001b[0mindex\u001b[0m\u001b[1;33m\u001b[0m\u001b[0m\n\u001b[1;32m----> 2\u001b[1;33m \u001b[0ml\u001b[0m \u001b[1;33m=\u001b[0m \u001b[0mlist\u001b[0m\u001b[1;33m(\u001b[0m\u001b[0mset\u001b[0m\u001b[1;33m[\u001b[0m\u001b[1;36m290\u001b[0m\u001b[1;33m,\u001b[0m\u001b[1;36m303\u001b[0m\u001b[1;33m,\u001b[0m\u001b[1;36m364\u001b[0m\u001b[1;33m,\u001b[0m\u001b[1;36m366\u001b[0m\u001b[1;33m,\u001b[0m\u001b[1;36m421\u001b[0m\u001b[1;33m,\u001b[0m\u001b[1;36m600\u001b[0m\u001b[1;33m,\u001b[0m\u001b[1;36m748\u001b[0m\u001b[1;33m,\u001b[0m\u001b[1;36m844\u001b[0m\u001b[1;33m,\u001b[0m\u001b[1;36m845\u001b[0m\u001b[1;33m,\u001b[0m\u001b[1;36m871\u001b[0m\u001b[1;33m,\u001b[0m\u001b[1;36m1131\u001b[0m\u001b[1;33m,\u001b[0m\u001b[1;36m1143\u001b[0m\u001b[1;33m,\u001b[0m\u001b[1;36m1158\u001b[0m\u001b[1;33m,\u001b[0m\u001b[1;36m1227\u001b[0m\u001b[1;33m,\u001b[0m\u001b[1;36m1416\u001b[0m\u001b[1;33m,\u001b[0m\u001b[1;36m1417\u001b[0m\u001b[1;33m,\u001b[0m\u001b[1;36m1735\u001b[0m\u001b[1;33m]\u001b[0m\u001b[1;33m.\u001b[0m\u001b[0mintersection\u001b[0m\u001b[1;33m(\u001b[0m\u001b[0mind_prob06\u001b[0m\u001b[1;33m)\u001b[0m\u001b[1;33m)\u001b[0m\u001b[1;33m\u001b[0m\u001b[0m\n\u001b[0m\u001b[0;32m      3\u001b[0m \u001b[0ml\u001b[0m\u001b[1;33m\u001b[0m\u001b[0m\n",
      "\u001b[1;31mTypeError\u001b[0m: 'type' object is not subscriptable"
     ]
    }
   ],
   "source": [
    "grid_bag_ind1 = bagDF[bagDF[\"pred\"]==1].index\n",
    "l = list(set[290,303,364,366,421,600,748,844,845,871,1131,1143,1158,1227,1416,1417,1735]).intersection(ind_prob06))\n",
    "l"
   ]
  },
  {
   "cell_type": "markdown",
   "metadata": {},
   "source": [
    "# Grid Search"
   ]
  },
  {
   "cell_type": "markdown",
   "metadata": {},
   "source": [
    "### 1. Logistic"
   ]
  },
  {
   "cell_type": "code",
   "execution_count": 81,
   "metadata": {},
   "outputs": [
    {
     "name": "stdout",
     "output_type": "stream",
     "text": [
      "Best: 0.910843 using {'C': 0.01, 'penalty': 'l2', 'solver': 'liblinear'}\n"
     ]
    }
   ],
   "source": [
    "# define models and parameters\n",
    "model = LogisticRegression()\n",
    "solvers = ['newton-cg', 'lbfgs', 'liblinear']\n",
    "penalty = ['l2']\n",
    "c_values = [100, 10, 1.0, 0.1, 0.01]\n",
    "# define grid search\n",
    "grid = dict(solver=solvers,penalty=penalty,C=c_values)\n",
    "grid_search = GridSearchCV(estimator=model, param_grid=grid, n_jobs=-1, cv=5, scoring='accuracy',error_score=0)\n",
    "log_grid_result = grid_search.fit(x_train, y_train)\n",
    "# summarize results\n",
    "print(\"Best: %f using %s\" % (log_grid_result.best_score_, log_grid_result.best_params_))\n",
    "\n",
    "predicted = pd.DataFrame(log_grid_result.best_estimator_.predict(x_test))\n",
    "# Store metrics\n",
    "gird_logit_acc = metrics.accuracy_score(y_test, predicted)      \n",
    "grid_logit_prec = metrics.precision_score(y_test, predicted, pos_label=1)\n",
    "grid_logit_rec = metrics.recall_score(y_test, predicted, pos_label=1)\n",
    "grid_logit_f1 = metrics.f1_score(y_test, predicted, pos_label=1)"
   ]
  },
  {
   "cell_type": "markdown",
   "metadata": {},
   "source": [
    "## 2. KNN"
   ]
  },
  {
   "cell_type": "code",
   "execution_count": 82,
   "metadata": {},
   "outputs": [
    {
     "name": "stdout",
     "output_type": "stream",
     "text": [
      "Best: 0.978313 using {'metric': 'manhattan', 'n_neighbors': 5, 'weights': 'uniform'}\n"
     ]
    }
   ],
   "source": [
    "# define models and parameters\n",
    "model = KNeighborsClassifier()\n",
    "n_neighbors = range(1, 21, 2)\n",
    "weights = ['uniform', 'distance']\n",
    "\n",
    "metric = ['euclidean', 'manhattan', 'minkowski']\n",
    "# define grid search\n",
    "grid = dict(n_neighbors=n_neighbors,weights=weights,metric=metric)\n",
    "grid_search = GridSearchCV(estimator=model, param_grid=grid, n_jobs=-1, cv=10, scoring='accuracy',error_score=0)\n",
    "knn_grid_result = grid_search.fit(x_train, y_train)\n",
    "# summarize results\n",
    "print(\"Best: %f using %s\" % (knn_grid_result.best_score_, knn_grid_result.best_params_))\n",
    "\n",
    "predicted = pd.DataFrame(knn_grid_result.best_estimator_.predict(x_test))\n",
    "# Store metrics\n",
    "gird_knn_acc = metrics.accuracy_score(y_test, predicted)      \n",
    "grid_knn_prec = metrics.precision_score(y_test, predicted, pos_label=1)\n",
    "grid_knn_rec = metrics.recall_score(y_test, predicted, pos_label=1)\n",
    "grid_knn_f1 = metrics.f1_score(y_test, predicted, pos_label=1)"
   ]
  },
  {
   "cell_type": "markdown",
   "metadata": {},
   "source": [
    "## 3. RandomForest"
   ]
  },
  {
   "cell_type": "code",
   "execution_count": 83,
   "metadata": {},
   "outputs": [
    {
     "name": "stdout",
     "output_type": "stream",
     "text": [
      "Best: 0.985542 using {'max_features': 'log2', 'n_estimators': 1000}\n"
     ]
    }
   ],
   "source": [
    "# define model and parameters\n",
    "model=RandomForestClassifier()\n",
    "n_estimators = [10, 100, 1000]\n",
    "max_features = ['sqrt', 'log2']\n",
    "# define grid search\n",
    "grid = dict(n_estimators=n_estimators,max_features=max_features)\n",
    "grid_search = GridSearchCV(estimator=model, param_grid=grid, n_jobs=-1, cv=10, scoring='accuracy',error_score=0)\n",
    "rf_grid_result = grid_search.fit(x_train, y_train)\n",
    "# summarize results\n",
    "print(\"Best: %f using %s\" % (rf_grid_result.best_score_, rf_grid_result.best_params_))\n",
    "predicted = pd.DataFrame(rf_grid_result.best_estimator_.predict(x_test))\n",
    "# Store metrics\n",
    "gird_rf_acc = metrics.accuracy_score(y_test, predicted)      \n",
    "grid_rf_prec = metrics.precision_score(y_test, predicted, pos_label=1)\n",
    "grid_rf_rec = metrics.recall_score(y_test, predicted, pos_label=1)\n",
    "grid_rf_f1 = metrics.f1_score(y_test, predicted, pos_label=1)"
   ]
  },
  {
   "cell_type": "markdown",
   "metadata": {},
   "source": [
    "## 4.Gradient Boosting"
   ]
  },
  {
   "cell_type": "code",
   "execution_count": 86,
   "metadata": {},
   "outputs": [
    {
     "name": "stdout",
     "output_type": "stream",
     "text": [
      "Best: 0.985542 using {'learning_rate': 0.01, 'max_depth': 7, 'n_estimators': 1000, 'subsample': 0.7}\n"
     ]
    }
   ],
   "source": [
    "model = GradientBoostingClassifier()\n",
    "n_estimators = [10, 100, 1000]\n",
    "learning_rate = [0.001, 0.01, 0.1]\n",
    "subsample = [0.5, 0.7, 1.0]\n",
    "max_depth = [3, 7, 9]\n",
    "# define grid search\n",
    "grid = dict(learning_rate=learning_rate, n_estimators=n_estimators, subsample=subsample, max_depth=max_depth)\n",
    "grid_search = GridSearchCV(estimator=model, param_grid=grid, n_jobs=-1, cv=10, scoring='accuracy',error_score=0)\n",
    "gb_grid_result = grid_search.fit(x_train, y_train)\n",
    "# summarize results\n",
    "print(\"Best: %f using %s\" % (gb_grid_result.best_score_, gb_grid_result.best_params_))\n",
    "predicted = pd.DataFrame(gb_grid_result.best_estimator_.predict(x_test))\n",
    "# Store metrics\n",
    "gird_gb_acc = metrics.accuracy_score(y_test, predicted)      \n",
    "grid_gb_prec = metrics.precision_score(y_test, predicted, pos_label=1)\n",
    "grid_gb_rec = metrics.recall_score(y_test, predicted, pos_label=1)\n",
    "grid_gb_f1 = metrics.f1_score(y_test, predicted, pos_label=1)\n"
   ]
  },
  {
   "cell_type": "markdown",
   "metadata": {},
   "source": [
    "## 5. Bagging"
   ]
  },
  {
   "cell_type": "code",
   "execution_count": 79,
   "metadata": {},
   "outputs": [
    {
     "name": "stdout",
     "output_type": "stream",
     "text": [
      "Best: 0.983165 using {'n_estimators': 10}\n"
     ]
    }
   ],
   "source": [
    "# define models and parameters\n",
    "model = BaggingClassifier()\n",
    "n_estimators = [10, 100, 1000]\n",
    "# define grid search\n",
    "grid = dict(n_estimators=n_estimators)\n",
    "grid_search = GridSearchCV(estimator=model, param_grid=grid, n_jobs=-1, cv=10, scoring='accuracy',error_score=0)\n",
    "bag_grid_result = grid_search.fit(X, y)\n",
    "# summarize results\n",
    "print(\"Best: %f using %s\" % (bag_grid_result.best_score_, bag_grid_result.best_params_))\n",
    "\n",
    "predicted = pd.DataFrame(bag_grid_result.best_estimator_.predict(x_test))\n",
    "# Store metrics\n",
    "gird_bag_acc = metrics.accuracy_score(y_test, predicted)      \n",
    "grid_bag_prec = metrics.precision_score(y_test, predicted, pos_label=1)\n",
    "grid_bag_rec = metrics.recall_score(y_test, predicted, pos_label=1)\n",
    "grid_bag_f1 = metrics.f1_score(y_test, predicted, pos_label=1)"
   ]
  },
  {
   "cell_type": "markdown",
   "metadata": {},
   "source": [
    "## RidgeClassifier"
   ]
  },
  {
   "cell_type": "code",
   "execution_count": 84,
   "metadata": {},
   "outputs": [
    {
     "name": "stdout",
     "output_type": "stream",
     "text": [
      "Best: 0.850602 using {'alpha': 0.2}\n"
     ]
    }
   ],
   "source": [
    "model = RidgeClassifier()\n",
    "alpha = [0.1, 0.2, 0.3, 0.4, 0.5, 0.6, 0.7, 0.8, 0.9, 1.0]\n",
    "# define grid search\n",
    "grid = dict(alpha=alpha)\n",
    "grid_search = GridSearchCV(estimator=model, param_grid=grid, n_jobs=-1, cv=10, scoring='accuracy',error_score=0)\n",
    "ridg_grid_result = grid_search.fit(x_train, y_train)\n",
    "# summarize results\n",
    "print(\"Best: %f using %s\" % (ridg_grid_result.best_score_, ridg_grid_result.best_params_))\n",
    "\n",
    "predicted = pd.DataFrame(ridg_grid_result.best_estimator_.predict(x_test))\n",
    "# Store metrics\n",
    "gird_ridg_acc = metrics.accuracy_score(y_test, predicted)      \n",
    "grid_ridg_prec = metrics.precision_score(y_test, predicted, pos_label=1)\n",
    "grid_ridg_rec = metrics.recall_score(y_test, predicted, pos_label=1)\n",
    "grid_ridg_f1 = metrics.f1_score(y_test, predicted, pos_label=1)"
   ]
  },
  {
   "cell_type": "code",
   "execution_count": 87,
   "metadata": {},
   "outputs": [],
   "source": [
    "grid1_models = pd.DataFrame({\n",
    "    'model':[\"logistic\",\"rf\",\"Bagging\",\"GardientBoost\",\"KNN\",\"Rigde\"],\n",
    "    'accuracy':[gird_logit_acc,gird_rf_acc,gird_bag_acc,gird_gb_acc,gird_knn_acc,gird_ridg_acc],\n",
    "    'precision':[grid_logit_prec,grid_rf_prec,grid_bag_prec,grid_gb_prec,grid_knn_prec,grid_ridg_prec],\n",
    "    'recall':[grid_logit_rec,grid_rf_rec,grid_bag_rec,grid_gb_rec,grid_knn_rec,grid_ridg_rec],\n",
    "    'F1':[grid_logit_f1,grid_rf_f1,grid_bag_f1,grid_gb_f1,grid_knn_f1,grid_ridg_f1]\n",
    "})"
   ]
  },
  {
   "cell_type": "code",
   "execution_count": 174,
   "metadata": {},
   "outputs": [
    {
     "data": {
      "text/html": [
       "<div>\n",
       "<style>\n",
       "    .dataframe thead tr:only-child th {\n",
       "        text-align: right;\n",
       "    }\n",
       "\n",
       "    .dataframe thead th {\n",
       "        text-align: left;\n",
       "    }\n",
       "\n",
       "    .dataframe tbody tr th {\n",
       "        vertical-align: top;\n",
       "    }\n",
       "</style>\n",
       "<table border=\"1\" class=\"dataframe\">\n",
       "  <thead>\n",
       "    <tr style=\"text-align: right;\">\n",
       "      <th></th>\n",
       "      <th>F1</th>\n",
       "      <th>accuracy</th>\n",
       "      <th>model</th>\n",
       "      <th>precision</th>\n",
       "      <th>recall</th>\n",
       "    </tr>\n",
       "  </thead>\n",
       "  <tbody>\n",
       "    <tr>\n",
       "      <th>2</th>\n",
       "      <td>1.000000</td>\n",
       "      <td>1.000000</td>\n",
       "      <td>Bagging</td>\n",
       "      <td>1.0</td>\n",
       "      <td>1.000000</td>\n",
       "    </tr>\n",
       "    <tr>\n",
       "      <th>1</th>\n",
       "      <td>0.988764</td>\n",
       "      <td>0.988827</td>\n",
       "      <td>rf</td>\n",
       "      <td>1.0</td>\n",
       "      <td>0.977778</td>\n",
       "    </tr>\n",
       "    <tr>\n",
       "      <th>3</th>\n",
       "      <td>0.988764</td>\n",
       "      <td>0.988827</td>\n",
       "      <td>GardientBoost</td>\n",
       "      <td>1.0</td>\n",
       "      <td>0.977778</td>\n",
       "    </tr>\n",
       "    <tr>\n",
       "      <th>4</th>\n",
       "      <td>0.977273</td>\n",
       "      <td>0.977654</td>\n",
       "      <td>KNN</td>\n",
       "      <td>1.0</td>\n",
       "      <td>0.955556</td>\n",
       "    </tr>\n",
       "    <tr>\n",
       "      <th>0</th>\n",
       "      <td>0.867925</td>\n",
       "      <td>0.882682</td>\n",
       "      <td>logistic</td>\n",
       "      <td>1.0</td>\n",
       "      <td>0.766667</td>\n",
       "    </tr>\n",
       "    <tr>\n",
       "      <th>5</th>\n",
       "      <td>0.783784</td>\n",
       "      <td>0.821229</td>\n",
       "      <td>Rigde</td>\n",
       "      <td>1.0</td>\n",
       "      <td>0.644444</td>\n",
       "    </tr>\n",
       "  </tbody>\n",
       "</table>\n",
       "</div>"
      ],
      "text/plain": [
       "         F1  accuracy          model  precision    recall\n",
       "2  1.000000  1.000000        Bagging        1.0  1.000000\n",
       "1  0.988764  0.988827             rf        1.0  0.977778\n",
       "3  0.988764  0.988827  GardientBoost        1.0  0.977778\n",
       "4  0.977273  0.977654            KNN        1.0  0.955556\n",
       "0  0.867925  0.882682       logistic        1.0  0.766667\n",
       "5  0.783784  0.821229          Rigde        1.0  0.644444"
      ]
     },
     "execution_count": 174,
     "metadata": {},
     "output_type": "execute_result"
    }
   ],
   "source": [
    "grid1_models.sort_values(by='accuracy', ascending=False)"
   ]
  },
  {
   "cell_type": "code",
   "execution_count": 24,
   "metadata": {},
   "outputs": [
    {
     "data": {
      "text/html": [
       "<div>\n",
       "<style>\n",
       "    .dataframe thead tr:only-child th {\n",
       "        text-align: right;\n",
       "    }\n",
       "\n",
       "    .dataframe thead th {\n",
       "        text-align: left;\n",
       "    }\n",
       "\n",
       "    .dataframe tbody tr th {\n",
       "        vertical-align: top;\n",
       "    }\n",
       "</style>\n",
       "<table border=\"1\" class=\"dataframe\">\n",
       "  <thead>\n",
       "    <tr style=\"text-align: right;\">\n",
       "      <th></th>\n",
       "      <th>F1</th>\n",
       "      <th>accuracy</th>\n",
       "      <th>model</th>\n",
       "      <th>precision</th>\n",
       "      <th>recall</th>\n",
       "    </tr>\n",
       "  </thead>\n",
       "  <tbody>\n",
       "    <tr>\n",
       "      <th>1</th>\n",
       "      <td>1.000000</td>\n",
       "      <td>1.000000</td>\n",
       "      <td>rf</td>\n",
       "      <td>1.000000</td>\n",
       "      <td>1.000000</td>\n",
       "    </tr>\n",
       "    <tr>\n",
       "      <th>2</th>\n",
       "      <td>1.000000</td>\n",
       "      <td>1.000000</td>\n",
       "      <td>Bagging</td>\n",
       "      <td>1.000000</td>\n",
       "      <td>1.000000</td>\n",
       "    </tr>\n",
       "    <tr>\n",
       "      <th>3</th>\n",
       "      <td>0.988235</td>\n",
       "      <td>0.988827</td>\n",
       "      <td>GardientBoost</td>\n",
       "      <td>0.988235</td>\n",
       "      <td>0.988235</td>\n",
       "    </tr>\n",
       "    <tr>\n",
       "      <th>4</th>\n",
       "      <td>0.988235</td>\n",
       "      <td>0.988827</td>\n",
       "      <td>KNN</td>\n",
       "      <td>0.988235</td>\n",
       "      <td>0.988235</td>\n",
       "    </tr>\n",
       "    <tr>\n",
       "      <th>0</th>\n",
       "      <td>0.874172</td>\n",
       "      <td>0.893855</td>\n",
       "      <td>logistic</td>\n",
       "      <td>1.000000</td>\n",
       "      <td>0.776471</td>\n",
       "    </tr>\n",
       "    <tr>\n",
       "      <th>5</th>\n",
       "      <td>0.785714</td>\n",
       "      <td>0.832402</td>\n",
       "      <td>Rigde</td>\n",
       "      <td>1.000000</td>\n",
       "      <td>0.647059</td>\n",
       "    </tr>\n",
       "  </tbody>\n",
       "</table>\n",
       "</div>"
      ],
      "text/plain": [
       "         F1  accuracy          model  precision    recall\n",
       "1  1.000000  1.000000             rf   1.000000  1.000000\n",
       "2  1.000000  1.000000        Bagging   1.000000  1.000000\n",
       "3  0.988235  0.988827  GardientBoost   0.988235  0.988235\n",
       "4  0.988235  0.988827            KNN   0.988235  0.988235\n",
       "0  0.874172  0.893855       logistic   1.000000  0.776471\n",
       "5  0.785714  0.832402          Rigde   1.000000  0.647059"
      ]
     },
     "execution_count": 24,
     "metadata": {},
     "output_type": "execute_result"
    }
   ],
   "source": [
    "grid_models.sort_values(by='accuracy', ascending=False)"
   ]
  },
  {
   "cell_type": "markdown",
   "metadata": {},
   "source": [
    "### Voting Classifier"
   ]
  },
  {
   "cell_type": "code",
   "execution_count": 89,
   "metadata": {},
   "outputs": [],
   "source": [
    "models = [LogisticRegression(),\n",
    "         BaggingClassifier(),\n",
    "         SVC(probability = True),\n",
    "         RandomForestClassifier(),\n",
    "         KNeighborsClassifier(),\n",
    "         GaussianNB()]"
   ]
  },
  {
   "cell_type": "markdown",
   "metadata": {},
   "source": [
    "### Hard"
   ]
  },
  {
   "cell_type": "code",
   "execution_count": 91,
   "metadata": {},
   "outputs": [
    {
     "name": "stderr",
     "output_type": "stream",
     "text": [
      "c:\\users\\soum bartowski\\anaconda3\\lib\\site-packages\\sklearn\\preprocessing\\label.py:171: DeprecationWarning: The truth value of an empty array is ambiguous. Returning False, but in future this will result in an error. Use `array.size > 0` to check that an array is not empty.\n",
      "  if diff:\n"
     ]
    }
   ],
   "source": [
    "models_ens = list(zip(['LR', 'BG', 'SVM', 'RF', 'KNN', 'NB'], models))\n",
    "\n",
    "hard_model_ens = VotingClassifier(estimators = models_ens, voting = 'hard')\n",
    "hard_model_ens.fit(x_train, y_train)\n",
    "pred = hard_model_ens.predict(x_test)\n",
    "#prob = model_ens.predict_proba(X_test)[:,1]\n",
    "\n",
    "acc_hard = accuracy_score(y_test, pred)\n",
    "prec_hard = precision_score(y_test, pred)\n",
    "recall_hard = recall_score(y_test, pred)\n",
    "f1_hard = f1_score(y_test, pred)\n",
    "roc_auc_hard = 'not applicable'"
   ]
  },
  {
   "cell_type": "markdown",
   "metadata": {},
   "source": [
    "### Soft"
   ]
  },
  {
   "cell_type": "code",
   "execution_count": 92,
   "metadata": {},
   "outputs": [
    {
     "name": "stderr",
     "output_type": "stream",
     "text": [
      "c:\\users\\soum bartowski\\anaconda3\\lib\\site-packages\\sklearn\\preprocessing\\label.py:171: DeprecationWarning: The truth value of an empty array is ambiguous. Returning False, but in future this will result in an error. Use `array.size > 0` to check that an array is not empty.\n",
      "  if diff:\n"
     ]
    }
   ],
   "source": [
    "soft_model_ens = VotingClassifier(estimators = models_ens, voting = 'soft')\n",
    "soft_model_ens.fit(x_train, y_train)\n",
    "pred = soft_model_ens.predict(x_test)\n",
    "prob = soft_model_ens.predict_proba(x_test)[:,1]\n",
    "\n",
    "acc_soft = accuracy_score(y_test, pred)\n",
    "prec_soft = precision_score(y_test, pred)\n",
    "recall_soft = recall_score(y_test, pred)\n",
    "f1_soft = f1_score(y_test, pred)\n",
    "roc_auc_soft = roc_auc_score(y_test, prob)"
   ]
  },
  {
   "cell_type": "code",
   "execution_count": 93,
   "metadata": {},
   "outputs": [
    {
     "data": {
      "text/html": [
       "<div>\n",
       "<style>\n",
       "    .dataframe thead tr:only-child th {\n",
       "        text-align: right;\n",
       "    }\n",
       "\n",
       "    .dataframe thead th {\n",
       "        text-align: left;\n",
       "    }\n",
       "\n",
       "    .dataframe tbody tr th {\n",
       "        vertical-align: top;\n",
       "    }\n",
       "</style>\n",
       "<table border=\"1\" class=\"dataframe\">\n",
       "  <thead>\n",
       "    <tr style=\"text-align: right;\">\n",
       "      <th></th>\n",
       "      <th>Model</th>\n",
       "      <th>Accuracy</th>\n",
       "      <th>Precision</th>\n",
       "      <th>Recall</th>\n",
       "      <th>F1_score</th>\n",
       "      <th>AUC_ROC</th>\n",
       "    </tr>\n",
       "  </thead>\n",
       "  <tbody>\n",
       "    <tr>\n",
       "      <th>1</th>\n",
       "      <td>Ensembling_soft</td>\n",
       "      <td>0.988827</td>\n",
       "      <td>1.0</td>\n",
       "      <td>0.975904</td>\n",
       "      <td>0.987805</td>\n",
       "      <td>0.997239</td>\n",
       "    </tr>\n",
       "    <tr>\n",
       "      <th>0</th>\n",
       "      <td>Ensebling_hard</td>\n",
       "      <td>0.916201</td>\n",
       "      <td>1.0</td>\n",
       "      <td>0.819277</td>\n",
       "      <td>0.900662</td>\n",
       "      <td>not applicable</td>\n",
       "    </tr>\n",
       "  </tbody>\n",
       "</table>\n",
       "</div>"
      ],
      "text/plain": [
       "             Model  Accuracy  Precision    Recall  F1_score         AUC_ROC\n",
       "1  Ensembling_soft  0.988827        1.0  0.975904  0.987805        0.997239\n",
       "0   Ensebling_hard  0.916201        1.0  0.819277  0.900662  not applicable"
      ]
     },
     "execution_count": 93,
     "metadata": {},
     "output_type": "execute_result"
    }
   ],
   "source": [
    "models_ensembling = pd.DataFrame({\n",
    "    'Model'       : ['Ensebling_hard', 'Ensembling_soft'],\n",
    "    'Accuracy'    : [acc_hard, acc_soft],\n",
    "    'Precision'   : [prec_hard, prec_soft],\n",
    "    'Recall'      : [recall_hard, recall_soft],\n",
    "    'F1_score'    : [f1_hard, f1_soft],\n",
    "    'AUC_ROC'     : [roc_auc_hard, roc_auc_soft],\n",
    "    }, columns = ['Model', 'Accuracy', 'Precision', 'Recall', 'F1_score', 'AUC_ROC'])\n",
    "\n",
    "models_ensembling.sort_values(by='Accuracy', ascending=False)"
   ]
  },
  {
   "cell_type": "code",
   "execution_count": null,
   "metadata": {},
   "outputs": [],
   "source": []
  },
  {
   "cell_type": "markdown",
   "metadata": {},
   "source": [
    "## Prédiction"
   ]
  },
  {
   "cell_type": "code",
   "execution_count": 175,
   "metadata": {},
   "outputs": [
    {
     "data": {
      "text/plain": [
       "(array([0, 1], dtype=int64), array([1051,  866], dtype=int64))"
      ]
     },
     "execution_count": 175,
     "metadata": {},
     "output_type": "execute_result"
    }
   ],
   "source": [
    "pred1 = bag_grid_result.best_estimator_.predict(testDF)\n",
    "np.unique(pred1,return_counts=True)"
   ]
  },
  {
   "cell_type": "code",
   "execution_count": 176,
   "metadata": {},
   "outputs": [],
   "source": [
    "bagDF = pd.DataFrame({'pred':pred1})"
   ]
  },
  {
   "cell_type": "code",
   "execution_count": null,
   "metadata": {},
   "outputs": [],
   "source": [
    "gi"
   ]
  },
  {
   "cell_type": "code",
   "execution_count": 177,
   "metadata": {},
   "outputs": [
    {
     "data": {
      "text/plain": [
       "(array([0, 1], dtype=int64), array([1122,  795], dtype=int64))"
      ]
     },
     "execution_count": 177,
     "metadata": {},
     "output_type": "execute_result"
    }
   ],
   "source": [
    "pred2 = gb_grid_result.best_estimator_.predict(testDF)\n",
    "np.unique(pred2,return_counts=True)"
   ]
  },
  {
   "cell_type": "code",
   "execution_count": 178,
   "metadata": {},
   "outputs": [
    {
     "data": {
      "text/plain": [
       "(array([0, 1], dtype=int64), array([1151,  766], dtype=int64))"
      ]
     },
     "execution_count": 178,
     "metadata": {},
     "output_type": "execute_result"
    }
   ],
   "source": [
    "pred3 = rf_grid_result.best_estimator_.predict(testDF)\n",
    "np.unique(pred3,return_counts=True)"
   ]
  },
  {
   "cell_type": "code",
   "execution_count": 181,
   "metadata": {},
   "outputs": [
    {
     "data": {
      "text/plain": [
       "(array([0, 1], dtype=int64), array([1234,  683], dtype=int64))"
      ]
     },
     "execution_count": 181,
     "metadata": {},
     "output_type": "execute_result"
    }
   ],
   "source": [
    "pred4 = knn_grid_result.best_estimator_.predict(testDF)\n",
    "np.unique(pred4,return_counts=True)"
   ]
  },
  {
   "cell_type": "code",
   "execution_count": 180,
   "metadata": {},
   "outputs": [
    {
     "data": {
      "text/plain": [
       "(array([0, 1], dtype=int64), array([1869,   48], dtype=int64))"
      ]
     },
     "execution_count": 180,
     "metadata": {},
     "output_type": "execute_result"
    }
   ],
   "source": [
    "pred5 = log_grid_result.best_estimator_.predict(testDF)\n",
    "np.unique(pred5,return_counts=True)"
   ]
  },
  {
   "cell_type": "code",
   "execution_count": 32,
   "metadata": {},
   "outputs": [
    {
     "data": {
      "text/plain": [
       "(array([0, 1], dtype=int64), array([1904,   13], dtype=int64))"
      ]
     },
     "execution_count": 32,
     "metadata": {},
     "output_type": "execute_result"
    }
   ],
   "source": [
    "pred6 = ridg_grid_result.best_estimator_.predict(testDF)\n",
    "np.unique(pred6,return_counts=True)"
   ]
  },
  {
   "cell_type": "code",
   "execution_count": 99,
   "metadata": {},
   "outputs": [
    {
     "name": "stderr",
     "output_type": "stream",
     "text": [
      "c:\\users\\soum bartowski\\anaconda3\\lib\\site-packages\\sklearn\\preprocessing\\label.py:171: DeprecationWarning: The truth value of an empty array is ambiguous. Returning False, but in future this will result in an error. Use `array.size > 0` to check that an array is not empty.\n",
      "  if diff:\n"
     ]
    }
   ],
   "source": [
    "pred7 = soft_model_ens.predict(testDF)"
   ]
  },
  {
   "cell_type": "code",
   "execution_count": 183,
   "metadata": {},
   "outputs": [],
   "source": [
    "predDF = pd.DataFrame({'bagging':pred1,'GradientBoost':pred2,\"rf\":pred3})\n",
    "predDF[\"somme\"]=predDF.sum(axis=1)"
   ]
  },
  {
   "cell_type": "code",
   "execution_count": 218,
   "metadata": {},
   "outputs": [],
   "source": [
    "ind1_mod_grid = predDF[predDF[\"somme\"]>=2].index"
   ]
  },
  {
   "cell_type": "code",
   "execution_count": 219,
   "metadata": {},
   "outputs": [
    {
     "data": {
      "text/plain": [
       "788"
      ]
     },
     "execution_count": 219,
     "metadata": {},
     "output_type": "execute_result"
    }
   ],
   "source": [
    "len(ind1_mod_grid)"
   ]
  },
  {
   "cell_type": "markdown",
   "metadata": {},
   "source": [
    "### Les proba"
   ]
  },
  {
   "cell_type": "code",
   "execution_count": 132,
   "metadata": {},
   "outputs": [],
   "source": [
    "log_proba = pd.DataFrame(log_grid_result.best_estimator_.predict_proba(testDF))\n",
    "rf_proba = pd.DataFrame(rf_grid_result.best_estimator_.predict_proba(testDF))\n",
    "knn_proba = pd.DataFrame(knn_grid_result.best_estimator_.predict_proba(testDF))\n",
    "bag_proba = pd.DataFrame(bag_grid_result.best_estimator_.predict_proba(testDF))\n",
    "gb_proba = pd.DataFrame(gb_grid_result.best_estimator_.predict_proba(testDF))"
   ]
  },
  {
   "cell_type": "code",
   "execution_count": 133,
   "metadata": {},
   "outputs": [
    {
     "data": {
      "text/html": [
       "<div>\n",
       "<style>\n",
       "    .dataframe thead tr:only-child th {\n",
       "        text-align: right;\n",
       "    }\n",
       "\n",
       "    .dataframe thead th {\n",
       "        text-align: left;\n",
       "    }\n",
       "\n",
       "    .dataframe tbody tr th {\n",
       "        vertical-align: top;\n",
       "    }\n",
       "</style>\n",
       "<table border=\"1\" class=\"dataframe\">\n",
       "  <thead>\n",
       "    <tr style=\"text-align: right;\">\n",
       "      <th></th>\n",
       "      <th>GradientBoost</th>\n",
       "      <th>bagging</th>\n",
       "      <th>knn</th>\n",
       "      <th>logit</th>\n",
       "      <th>rf</th>\n",
       "    </tr>\n",
       "  </thead>\n",
       "  <tbody>\n",
       "    <tr>\n",
       "      <th>0</th>\n",
       "      <td>0.466535</td>\n",
       "      <td>0.00</td>\n",
       "      <td>0.000000</td>\n",
       "      <td>0.022978</td>\n",
       "      <td>0.01</td>\n",
       "    </tr>\n",
       "    <tr>\n",
       "      <th>1</th>\n",
       "      <td>0.555453</td>\n",
       "      <td>0.95</td>\n",
       "      <td>0.666667</td>\n",
       "      <td>0.268984</td>\n",
       "      <td>0.90</td>\n",
       "    </tr>\n",
       "    <tr>\n",
       "      <th>2</th>\n",
       "      <td>0.500073</td>\n",
       "      <td>0.35</td>\n",
       "      <td>0.000000</td>\n",
       "      <td>0.061760</td>\n",
       "      <td>0.29</td>\n",
       "    </tr>\n",
       "    <tr>\n",
       "      <th>3</th>\n",
       "      <td>0.492472</td>\n",
       "      <td>0.26</td>\n",
       "      <td>0.000000</td>\n",
       "      <td>0.307164</td>\n",
       "      <td>0.33</td>\n",
       "    </tr>\n",
       "    <tr>\n",
       "      <th>4</th>\n",
       "      <td>0.547974</td>\n",
       "      <td>0.91</td>\n",
       "      <td>0.333333</td>\n",
       "      <td>0.217360</td>\n",
       "      <td>0.84</td>\n",
       "    </tr>\n",
       "    <tr>\n",
       "      <th>5</th>\n",
       "      <td>0.512513</td>\n",
       "      <td>0.80</td>\n",
       "      <td>0.000000</td>\n",
       "      <td>0.208428</td>\n",
       "      <td>0.34</td>\n",
       "    </tr>\n",
       "    <tr>\n",
       "      <th>6</th>\n",
       "      <td>0.476858</td>\n",
       "      <td>0.04</td>\n",
       "      <td>0.000000</td>\n",
       "      <td>0.102541</td>\n",
       "      <td>0.13</td>\n",
       "    </tr>\n",
       "    <tr>\n",
       "      <th>7</th>\n",
       "      <td>0.492551</td>\n",
       "      <td>0.33</td>\n",
       "      <td>0.000000</td>\n",
       "      <td>0.099219</td>\n",
       "      <td>0.21</td>\n",
       "    </tr>\n",
       "    <tr>\n",
       "      <th>8</th>\n",
       "      <td>0.466564</td>\n",
       "      <td>0.00</td>\n",
       "      <td>0.000000</td>\n",
       "      <td>0.233771</td>\n",
       "      <td>0.00</td>\n",
       "    </tr>\n",
       "    <tr>\n",
       "      <th>9</th>\n",
       "      <td>0.528314</td>\n",
       "      <td>0.69</td>\n",
       "      <td>1.000000</td>\n",
       "      <td>0.001459</td>\n",
       "      <td>0.55</td>\n",
       "    </tr>\n",
       "    <tr>\n",
       "      <th>10</th>\n",
       "      <td>0.492548</td>\n",
       "      <td>0.32</td>\n",
       "      <td>0.000000</td>\n",
       "      <td>0.007150</td>\n",
       "      <td>0.24</td>\n",
       "    </tr>\n",
       "    <tr>\n",
       "      <th>11</th>\n",
       "      <td>0.530809</td>\n",
       "      <td>0.75</td>\n",
       "      <td>1.000000</td>\n",
       "      <td>0.231942</td>\n",
       "      <td>0.45</td>\n",
       "    </tr>\n",
       "    <tr>\n",
       "      <th>12</th>\n",
       "      <td>0.551687</td>\n",
       "      <td>0.98</td>\n",
       "      <td>1.000000</td>\n",
       "      <td>0.203817</td>\n",
       "      <td>0.89</td>\n",
       "    </tr>\n",
       "    <tr>\n",
       "      <th>13</th>\n",
       "      <td>0.560846</td>\n",
       "      <td>1.00</td>\n",
       "      <td>1.000000</td>\n",
       "      <td>0.232814</td>\n",
       "      <td>1.00</td>\n",
       "    </tr>\n",
       "    <tr>\n",
       "      <th>14</th>\n",
       "      <td>0.533291</td>\n",
       "      <td>0.81</td>\n",
       "      <td>0.666667</td>\n",
       "      <td>0.215374</td>\n",
       "      <td>0.79</td>\n",
       "    </tr>\n",
       "  </tbody>\n",
       "</table>\n",
       "</div>"
      ],
      "text/plain": [
       "    GradientBoost  bagging       knn     logit    rf\n",
       "0        0.466535     0.00  0.000000  0.022978  0.01\n",
       "1        0.555453     0.95  0.666667  0.268984  0.90\n",
       "2        0.500073     0.35  0.000000  0.061760  0.29\n",
       "3        0.492472     0.26  0.000000  0.307164  0.33\n",
       "4        0.547974     0.91  0.333333  0.217360  0.84\n",
       "5        0.512513     0.80  0.000000  0.208428  0.34\n",
       "6        0.476858     0.04  0.000000  0.102541  0.13\n",
       "7        0.492551     0.33  0.000000  0.099219  0.21\n",
       "8        0.466564     0.00  0.000000  0.233771  0.00\n",
       "9        0.528314     0.69  1.000000  0.001459  0.55\n",
       "10       0.492548     0.32  0.000000  0.007150  0.24\n",
       "11       0.530809     0.75  1.000000  0.231942  0.45\n",
       "12       0.551687     0.98  1.000000  0.203817  0.89\n",
       "13       0.560846     1.00  1.000000  0.232814  1.00\n",
       "14       0.533291     0.81  0.666667  0.215374  0.79"
      ]
     },
     "execution_count": 133,
     "metadata": {},
     "output_type": "execute_result"
    }
   ],
   "source": [
    "probabilities = pd.DataFrame({\n",
    "    'logit':log_proba[1],\n",
    "    'rf':rf_proba[1],\n",
    "    'knn':knn_proba[1],\n",
    "    'bagging':bag_proba[1],\n",
    "    'GradientBoost':gb_proba[1]\n",
    "})\n",
    "probabilities.head(15)"
   ]
  },
  {
   "cell_type": "markdown",
   "metadata": {},
   "source": [
    "### Comparaison des models"
   ]
  },
  {
   "cell_type": "code",
   "execution_count": 103,
   "metadata": {},
   "outputs": [],
   "source": [
    "predk = pd.read_csv(\"ME/Predictions.csv\",sep=\";\")\n",
    "probak = pd.read_csv(\"ME/Probas.csv\",sep=\";\")\n",
    "scorek = pd.read_csv(\"ME/touts_scores.csv\",sep=\";\")"
   ]
  },
  {
   "cell_type": "code",
   "execution_count": 130,
   "metadata": {},
   "outputs": [
    {
     "data": {
      "text/html": [
       "<div>\n",
       "<style>\n",
       "    .dataframe thead tr:only-child th {\n",
       "        text-align: right;\n",
       "    }\n",
       "\n",
       "    .dataframe thead th {\n",
       "        text-align: left;\n",
       "    }\n",
       "\n",
       "    .dataframe tbody tr th {\n",
       "        vertical-align: top;\n",
       "    }\n",
       "</style>\n",
       "<table border=\"1\" class=\"dataframe\">\n",
       "  <thead>\n",
       "    <tr style=\"text-align: right;\">\n",
       "      <th></th>\n",
       "      <th>Random-Forest</th>\n",
       "      <th>RN</th>\n",
       "      <th>GRadient_Boosting</th>\n",
       "      <th>XGboost</th>\n",
       "      <th>SVM</th>\n",
       "      <th>DTC</th>\n",
       "      <th>ADA</th>\n",
       "      <th>Gp_Classifier</th>\n",
       "      <th>Somme</th>\n",
       "      <th>Moy</th>\n",
       "    </tr>\n",
       "  </thead>\n",
       "  <tbody>\n",
       "    <tr>\n",
       "      <th>0</th>\n",
       "      <td>0.035675</td>\n",
       "      <td>0.030652</td>\n",
       "      <td>0.226986</td>\n",
       "      <td>0.289739</td>\n",
       "      <td>0.151580</td>\n",
       "      <td>0.0</td>\n",
       "      <td>0.147666</td>\n",
       "      <td>0.038700</td>\n",
       "      <td>0.920997</td>\n",
       "      <td>0.131571</td>\n",
       "    </tr>\n",
       "    <tr>\n",
       "      <th>1</th>\n",
       "      <td>0.760310</td>\n",
       "      <td>0.900486</td>\n",
       "      <td>0.622771</td>\n",
       "      <td>0.289739</td>\n",
       "      <td>0.197099</td>\n",
       "      <td>1.0</td>\n",
       "      <td>0.697990</td>\n",
       "      <td>0.485993</td>\n",
       "      <td>4.954387</td>\n",
       "      <td>0.707770</td>\n",
       "    </tr>\n",
       "    <tr>\n",
       "      <th>2</th>\n",
       "      <td>0.351786</td>\n",
       "      <td>0.005616</td>\n",
       "      <td>0.274139</td>\n",
       "      <td>0.289739</td>\n",
       "      <td>0.378253</td>\n",
       "      <td>0.0</td>\n",
       "      <td>0.163024</td>\n",
       "      <td>0.975509</td>\n",
       "      <td>2.438066</td>\n",
       "      <td>0.348295</td>\n",
       "    </tr>\n",
       "    <tr>\n",
       "      <th>3</th>\n",
       "      <td>0.127500</td>\n",
       "      <td>0.533741</td>\n",
       "      <td>0.273700</td>\n",
       "      <td>0.289739</td>\n",
       "      <td>0.185004</td>\n",
       "      <td>0.0</td>\n",
       "      <td>0.159187</td>\n",
       "      <td>0.038700</td>\n",
       "      <td>1.607571</td>\n",
       "      <td>0.229653</td>\n",
       "    </tr>\n",
       "    <tr>\n",
       "      <th>4</th>\n",
       "      <td>0.762810</td>\n",
       "      <td>0.608028</td>\n",
       "      <td>0.625353</td>\n",
       "      <td>0.289739</td>\n",
       "      <td>0.186388</td>\n",
       "      <td>1.0</td>\n",
       "      <td>0.697990</td>\n",
       "      <td>0.038700</td>\n",
       "      <td>4.209008</td>\n",
       "      <td>0.601287</td>\n",
       "    </tr>\n",
       "  </tbody>\n",
       "</table>\n",
       "</div>"
      ],
      "text/plain": [
       "   Random-Forest        RN  GRadient_Boosting   XGboost       SVM  DTC  \\\n",
       "0       0.035675  0.030652           0.226986  0.289739  0.151580  0.0   \n",
       "1       0.760310  0.900486           0.622771  0.289739  0.197099  1.0   \n",
       "2       0.351786  0.005616           0.274139  0.289739  0.378253  0.0   \n",
       "3       0.127500  0.533741           0.273700  0.289739  0.185004  0.0   \n",
       "4       0.762810  0.608028           0.625353  0.289739  0.186388  1.0   \n",
       "\n",
       "        ADA  Gp_Classifier     Somme       Moy  \n",
       "0  0.147666       0.038700  0.920997  0.131571  \n",
       "1  0.697990       0.485993  4.954387  0.707770  \n",
       "2  0.163024       0.975509  2.438066  0.348295  \n",
       "3  0.159187       0.038700  1.607571  0.229653  \n",
       "4  0.697990       0.038700  4.209008  0.601287  "
      ]
     },
     "execution_count": 130,
     "metadata": {},
     "output_type": "execute_result"
    }
   ],
   "source": [
    "probak.head()"
   ]
  },
  {
   "cell_type": "code",
   "execution_count": 62,
   "metadata": {},
   "outputs": [
    {
     "data": {
      "text/html": [
       "<div>\n",
       "<style>\n",
       "    .dataframe thead tr:only-child th {\n",
       "        text-align: right;\n",
       "    }\n",
       "\n",
       "    .dataframe thead th {\n",
       "        text-align: left;\n",
       "    }\n",
       "\n",
       "    .dataframe tbody tr th {\n",
       "        vertical-align: top;\n",
       "    }\n",
       "</style>\n",
       "<table border=\"1\" class=\"dataframe\">\n",
       "  <thead>\n",
       "    <tr style=\"text-align: right;\">\n",
       "      <th></th>\n",
       "      <th>Random-Forest</th>\n",
       "      <th>RN</th>\n",
       "      <th>GRadient_Boosting</th>\n",
       "      <th>XGboost</th>\n",
       "      <th>SVM</th>\n",
       "      <th>DTC</th>\n",
       "      <th>ADA</th>\n",
       "      <th>Gp_Classifier</th>\n",
       "      <th>Somme</th>\n",
       "    </tr>\n",
       "  </thead>\n",
       "  <tbody>\n",
       "    <tr>\n",
       "      <th>0</th>\n",
       "      <td>0</td>\n",
       "      <td>0</td>\n",
       "      <td>0</td>\n",
       "      <td>0</td>\n",
       "      <td>0</td>\n",
       "      <td>0</td>\n",
       "      <td>0</td>\n",
       "      <td>0</td>\n",
       "      <td>0</td>\n",
       "    </tr>\n",
       "    <tr>\n",
       "      <th>1</th>\n",
       "      <td>1</td>\n",
       "      <td>1</td>\n",
       "      <td>1</td>\n",
       "      <td>0</td>\n",
       "      <td>0</td>\n",
       "      <td>1</td>\n",
       "      <td>1</td>\n",
       "      <td>0</td>\n",
       "      <td>5</td>\n",
       "    </tr>\n",
       "    <tr>\n",
       "      <th>2</th>\n",
       "      <td>0</td>\n",
       "      <td>0</td>\n",
       "      <td>0</td>\n",
       "      <td>0</td>\n",
       "      <td>1</td>\n",
       "      <td>0</td>\n",
       "      <td>0</td>\n",
       "      <td>1</td>\n",
       "      <td>2</td>\n",
       "    </tr>\n",
       "    <tr>\n",
       "      <th>3</th>\n",
       "      <td>0</td>\n",
       "      <td>1</td>\n",
       "      <td>0</td>\n",
       "      <td>0</td>\n",
       "      <td>0</td>\n",
       "      <td>0</td>\n",
       "      <td>0</td>\n",
       "      <td>0</td>\n",
       "      <td>1</td>\n",
       "    </tr>\n",
       "    <tr>\n",
       "      <th>4</th>\n",
       "      <td>1</td>\n",
       "      <td>1</td>\n",
       "      <td>1</td>\n",
       "      <td>0</td>\n",
       "      <td>0</td>\n",
       "      <td>1</td>\n",
       "      <td>1</td>\n",
       "      <td>0</td>\n",
       "      <td>5</td>\n",
       "    </tr>\n",
       "  </tbody>\n",
       "</table>\n",
       "</div>"
      ],
      "text/plain": [
       "   Random-Forest  RN  GRadient_Boosting  XGboost  SVM  DTC  ADA  \\\n",
       "0              0   0                  0        0    0    0    0   \n",
       "1              1   1                  1        0    0    1    1   \n",
       "2              0   0                  0        0    1    0    0   \n",
       "3              0   1                  0        0    0    0    0   \n",
       "4              1   1                  1        0    0    1    1   \n",
       "\n",
       "   Gp_Classifier  Somme  \n",
       "0              0      0  \n",
       "1              0      5  \n",
       "2              1      2  \n",
       "3              0      1  \n",
       "4              0      5  "
      ]
     },
     "execution_count": 62,
     "metadata": {},
     "output_type": "execute_result"
    }
   ],
   "source": [
    "predk.head()"
   ]
  },
  {
   "cell_type": "code",
   "execution_count": 104,
   "metadata": {},
   "outputs": [
    {
     "data": {
      "text/html": [
       "<div>\n",
       "<style>\n",
       "    .dataframe thead tr:only-child th {\n",
       "        text-align: right;\n",
       "    }\n",
       "\n",
       "    .dataframe thead th {\n",
       "        text-align: left;\n",
       "    }\n",
       "\n",
       "    .dataframe tbody tr th {\n",
       "        vertical-align: top;\n",
       "    }\n",
       "</style>\n",
       "<table border=\"1\" class=\"dataframe\">\n",
       "  <thead>\n",
       "    <tr style=\"text-align: right;\">\n",
       "      <th></th>\n",
       "      <th>GradientBoost</th>\n",
       "      <th>bagging</th>\n",
       "      <th>knn</th>\n",
       "      <th>logit</th>\n",
       "      <th>rf</th>\n",
       "      <th>voting</th>\n",
       "      <th>Random-Forest</th>\n",
       "      <th>RN</th>\n",
       "      <th>GRadient_Boosting</th>\n",
       "      <th>XGboost</th>\n",
       "      <th>SVM</th>\n",
       "      <th>DTC</th>\n",
       "      <th>ADA</th>\n",
       "      <th>Gp_Classifier</th>\n",
       "    </tr>\n",
       "  </thead>\n",
       "  <tbody>\n",
       "    <tr>\n",
       "      <th>0</th>\n",
       "      <td>0</td>\n",
       "      <td>0</td>\n",
       "      <td>0</td>\n",
       "      <td>0</td>\n",
       "      <td>0</td>\n",
       "      <td>0</td>\n",
       "      <td>0</td>\n",
       "      <td>0</td>\n",
       "      <td>0</td>\n",
       "      <td>0</td>\n",
       "      <td>0</td>\n",
       "      <td>0</td>\n",
       "      <td>0</td>\n",
       "      <td>0</td>\n",
       "    </tr>\n",
       "    <tr>\n",
       "      <th>1</th>\n",
       "      <td>1</td>\n",
       "      <td>1</td>\n",
       "      <td>1</td>\n",
       "      <td>0</td>\n",
       "      <td>1</td>\n",
       "      <td>0</td>\n",
       "      <td>1</td>\n",
       "      <td>1</td>\n",
       "      <td>1</td>\n",
       "      <td>0</td>\n",
       "      <td>0</td>\n",
       "      <td>1</td>\n",
       "      <td>1</td>\n",
       "      <td>0</td>\n",
       "    </tr>\n",
       "    <tr>\n",
       "      <th>2</th>\n",
       "      <td>1</td>\n",
       "      <td>0</td>\n",
       "      <td>0</td>\n",
       "      <td>0</td>\n",
       "      <td>0</td>\n",
       "      <td>0</td>\n",
       "      <td>0</td>\n",
       "      <td>0</td>\n",
       "      <td>0</td>\n",
       "      <td>0</td>\n",
       "      <td>1</td>\n",
       "      <td>0</td>\n",
       "      <td>0</td>\n",
       "      <td>1</td>\n",
       "    </tr>\n",
       "    <tr>\n",
       "      <th>3</th>\n",
       "      <td>0</td>\n",
       "      <td>0</td>\n",
       "      <td>0</td>\n",
       "      <td>0</td>\n",
       "      <td>0</td>\n",
       "      <td>0</td>\n",
       "      <td>0</td>\n",
       "      <td>1</td>\n",
       "      <td>0</td>\n",
       "      <td>0</td>\n",
       "      <td>0</td>\n",
       "      <td>0</td>\n",
       "      <td>0</td>\n",
       "      <td>0</td>\n",
       "    </tr>\n",
       "    <tr>\n",
       "      <th>4</th>\n",
       "      <td>1</td>\n",
       "      <td>1</td>\n",
       "      <td>0</td>\n",
       "      <td>0</td>\n",
       "      <td>1</td>\n",
       "      <td>0</td>\n",
       "      <td>1</td>\n",
       "      <td>1</td>\n",
       "      <td>1</td>\n",
       "      <td>0</td>\n",
       "      <td>0</td>\n",
       "      <td>1</td>\n",
       "      <td>1</td>\n",
       "      <td>0</td>\n",
       "    </tr>\n",
       "  </tbody>\n",
       "</table>\n",
       "</div>"
      ],
      "text/plain": [
       "   GradientBoost  bagging  knn  logit  rf  voting  Random-Forest  RN  \\\n",
       "0              0        0    0      0   0       0              0   0   \n",
       "1              1        1    1      0   1       0              1   1   \n",
       "2              1        0    0      0   0       0              0   0   \n",
       "3              0        0    0      0   0       0              0   1   \n",
       "4              1        1    0      0   1       0              1   1   \n",
       "\n",
       "   GRadient_Boosting  XGboost  SVM  DTC  ADA  Gp_Classifier  \n",
       "0                  0        0    0    0    0              0  \n",
       "1                  1        0    0    1    1              0  \n",
       "2                  0        0    1    0    0              1  \n",
       "3                  0        0    0    0    0              0  \n",
       "4                  1        0    0    1    1              0  "
      ]
     },
     "execution_count": 104,
     "metadata": {},
     "output_type": "execute_result"
    }
   ],
   "source": [
    "models = pd.concat([predDF,predk],axis=1)\n",
    "models = models.drop([\"Somme\"],axis=1)\n",
    "models.head()"
   ]
  },
  {
   "cell_type": "code",
   "execution_count": 79,
   "metadata": {},
   "outputs": [
    {
     "data": {
      "text/html": [
       "<div>\n",
       "<style>\n",
       "    .dataframe thead tr:only-child th {\n",
       "        text-align: right;\n",
       "    }\n",
       "\n",
       "    .dataframe thead th {\n",
       "        text-align: left;\n",
       "    }\n",
       "\n",
       "    .dataframe tbody tr th {\n",
       "        vertical-align: top;\n",
       "    }\n",
       "</style>\n",
       "<table border=\"1\" class=\"dataframe\">\n",
       "  <thead>\n",
       "    <tr style=\"text-align: right;\">\n",
       "      <th></th>\n",
       "      <th>GradientBoost</th>\n",
       "      <th>bagging</th>\n",
       "      <th>knn</th>\n",
       "      <th>logit</th>\n",
       "      <th>rf</th>\n",
       "      <th>voting</th>\n",
       "      <th>Random-Forest</th>\n",
       "      <th>RN</th>\n",
       "      <th>GRadient_Boosting</th>\n",
       "      <th>XGboost</th>\n",
       "      <th>SVM</th>\n",
       "      <th>DTC</th>\n",
       "      <th>ADA</th>\n",
       "      <th>Gp_Classifier</th>\n",
       "      <th>Somme</th>\n",
       "    </tr>\n",
       "  </thead>\n",
       "  <tbody>\n",
       "    <tr>\n",
       "      <th>0</th>\n",
       "      <td>0</td>\n",
       "      <td>0</td>\n",
       "      <td>0</td>\n",
       "      <td>0</td>\n",
       "      <td>0</td>\n",
       "      <td>0</td>\n",
       "      <td>0</td>\n",
       "      <td>0</td>\n",
       "      <td>0</td>\n",
       "      <td>0</td>\n",
       "      <td>0</td>\n",
       "      <td>0</td>\n",
       "      <td>0</td>\n",
       "      <td>0</td>\n",
       "      <td>0</td>\n",
       "    </tr>\n",
       "    <tr>\n",
       "      <th>1</th>\n",
       "      <td>1</td>\n",
       "      <td>1</td>\n",
       "      <td>1</td>\n",
       "      <td>0</td>\n",
       "      <td>1</td>\n",
       "      <td>1</td>\n",
       "      <td>1</td>\n",
       "      <td>1</td>\n",
       "      <td>1</td>\n",
       "      <td>0</td>\n",
       "      <td>0</td>\n",
       "      <td>1</td>\n",
       "      <td>1</td>\n",
       "      <td>0</td>\n",
       "      <td>10</td>\n",
       "    </tr>\n",
       "    <tr>\n",
       "      <th>2</th>\n",
       "      <td>0</td>\n",
       "      <td>0</td>\n",
       "      <td>1</td>\n",
       "      <td>0</td>\n",
       "      <td>0</td>\n",
       "      <td>1</td>\n",
       "      <td>0</td>\n",
       "      <td>0</td>\n",
       "      <td>0</td>\n",
       "      <td>0</td>\n",
       "      <td>1</td>\n",
       "      <td>0</td>\n",
       "      <td>0</td>\n",
       "      <td>1</td>\n",
       "      <td>4</td>\n",
       "    </tr>\n",
       "    <tr>\n",
       "      <th>3</th>\n",
       "      <td>0</td>\n",
       "      <td>0</td>\n",
       "      <td>0</td>\n",
       "      <td>0</td>\n",
       "      <td>0</td>\n",
       "      <td>0</td>\n",
       "      <td>0</td>\n",
       "      <td>1</td>\n",
       "      <td>0</td>\n",
       "      <td>0</td>\n",
       "      <td>0</td>\n",
       "      <td>0</td>\n",
       "      <td>0</td>\n",
       "      <td>0</td>\n",
       "      <td>1</td>\n",
       "    </tr>\n",
       "    <tr>\n",
       "      <th>4</th>\n",
       "      <td>1</td>\n",
       "      <td>1</td>\n",
       "      <td>1</td>\n",
       "      <td>0</td>\n",
       "      <td>1</td>\n",
       "      <td>1</td>\n",
       "      <td>1</td>\n",
       "      <td>1</td>\n",
       "      <td>1</td>\n",
       "      <td>0</td>\n",
       "      <td>0</td>\n",
       "      <td>1</td>\n",
       "      <td>1</td>\n",
       "      <td>0</td>\n",
       "      <td>10</td>\n",
       "    </tr>\n",
       "  </tbody>\n",
       "</table>\n",
       "</div>"
      ],
      "text/plain": [
       "   GradientBoost  bagging  knn  logit  rf  voting  Random-Forest  RN  \\\n",
       "0              0        0    0      0   0       0              0   0   \n",
       "1              1        1    1      0   1       1              1   1   \n",
       "2              0        0    1      0   0       1              0   0   \n",
       "3              0        0    0      0   0       0              0   1   \n",
       "4              1        1    1      0   1       1              1   1   \n",
       "\n",
       "   GRadient_Boosting  XGboost  SVM  DTC  ADA  Gp_Classifier  Somme  \n",
       "0                  0        0    0    0    0              0      0  \n",
       "1                  1        0    0    1    1              0     10  \n",
       "2                  0        0    1    0    0              1      4  \n",
       "3                  0        0    0    0    0              0      1  \n",
       "4                  1        0    0    1    1              0     10  "
      ]
     },
     "execution_count": 79,
     "metadata": {},
     "output_type": "execute_result"
    }
   ],
   "source": [
    "models['Somme'] = models.sum(axis=1)\n",
    "models.head()"
   ]
  },
  {
   "cell_type": "code",
   "execution_count": 84,
   "metadata": {},
   "outputs": [
    {
     "data": {
      "text/html": [
       "<div>\n",
       "<style>\n",
       "    .dataframe thead tr:only-child th {\n",
       "        text-align: right;\n",
       "    }\n",
       "\n",
       "    .dataframe thead th {\n",
       "        text-align: left;\n",
       "    }\n",
       "\n",
       "    .dataframe tbody tr th {\n",
       "        vertical-align: top;\n",
       "    }\n",
       "</style>\n",
       "<table border=\"1\" class=\"dataframe\">\n",
       "  <thead>\n",
       "    <tr style=\"text-align: right;\">\n",
       "      <th></th>\n",
       "      <th>GradientBoost</th>\n",
       "      <th>bagging</th>\n",
       "      <th>knn</th>\n",
       "      <th>logit</th>\n",
       "      <th>rf</th>\n",
       "      <th>voting</th>\n",
       "      <th>Random-Forest</th>\n",
       "      <th>RN</th>\n",
       "      <th>GRadient_Boosting</th>\n",
       "      <th>XGboost</th>\n",
       "      <th>SVM</th>\n",
       "      <th>DTC</th>\n",
       "      <th>ADA</th>\n",
       "      <th>Gp_Classifier</th>\n",
       "      <th>Somme</th>\n",
       "    </tr>\n",
       "  </thead>\n",
       "  <tbody>\n",
       "    <tr>\n",
       "      <th>1</th>\n",
       "      <td>1</td>\n",
       "      <td>1</td>\n",
       "      <td>1</td>\n",
       "      <td>0</td>\n",
       "      <td>1</td>\n",
       "      <td>1</td>\n",
       "      <td>1</td>\n",
       "      <td>1</td>\n",
       "      <td>1</td>\n",
       "      <td>0</td>\n",
       "      <td>0</td>\n",
       "      <td>1</td>\n",
       "      <td>1</td>\n",
       "      <td>0</td>\n",
       "      <td>10</td>\n",
       "    </tr>\n",
       "    <tr>\n",
       "      <th>4</th>\n",
       "      <td>1</td>\n",
       "      <td>1</td>\n",
       "      <td>1</td>\n",
       "      <td>0</td>\n",
       "      <td>1</td>\n",
       "      <td>1</td>\n",
       "      <td>1</td>\n",
       "      <td>1</td>\n",
       "      <td>1</td>\n",
       "      <td>0</td>\n",
       "      <td>0</td>\n",
       "      <td>1</td>\n",
       "      <td>1</td>\n",
       "      <td>0</td>\n",
       "      <td>10</td>\n",
       "    </tr>\n",
       "    <tr>\n",
       "      <th>33</th>\n",
       "      <td>1</td>\n",
       "      <td>1</td>\n",
       "      <td>1</td>\n",
       "      <td>0</td>\n",
       "      <td>1</td>\n",
       "      <td>1</td>\n",
       "      <td>1</td>\n",
       "      <td>1</td>\n",
       "      <td>1</td>\n",
       "      <td>0</td>\n",
       "      <td>0</td>\n",
       "      <td>1</td>\n",
       "      <td>1</td>\n",
       "      <td>0</td>\n",
       "      <td>10</td>\n",
       "    </tr>\n",
       "    <tr>\n",
       "      <th>43</th>\n",
       "      <td>1</td>\n",
       "      <td>0</td>\n",
       "      <td>1</td>\n",
       "      <td>0</td>\n",
       "      <td>1</td>\n",
       "      <td>0</td>\n",
       "      <td>1</td>\n",
       "      <td>1</td>\n",
       "      <td>1</td>\n",
       "      <td>1</td>\n",
       "      <td>0</td>\n",
       "      <td>1</td>\n",
       "      <td>1</td>\n",
       "      <td>1</td>\n",
       "      <td>10</td>\n",
       "    </tr>\n",
       "    <tr>\n",
       "      <th>108</th>\n",
       "      <td>1</td>\n",
       "      <td>1</td>\n",
       "      <td>1</td>\n",
       "      <td>0</td>\n",
       "      <td>1</td>\n",
       "      <td>1</td>\n",
       "      <td>1</td>\n",
       "      <td>1</td>\n",
       "      <td>1</td>\n",
       "      <td>0</td>\n",
       "      <td>0</td>\n",
       "      <td>1</td>\n",
       "      <td>1</td>\n",
       "      <td>0</td>\n",
       "      <td>10</td>\n",
       "    </tr>\n",
       "  </tbody>\n",
       "</table>\n",
       "</div>"
      ],
      "text/plain": [
       "     GradientBoost  bagging  knn  logit  rf  voting  Random-Forest  RN  \\\n",
       "1                1        1    1      0   1       1              1   1   \n",
       "4                1        1    1      0   1       1              1   1   \n",
       "33               1        1    1      0   1       1              1   1   \n",
       "43               1        0    1      0   1       0              1   1   \n",
       "108              1        1    1      0   1       1              1   1   \n",
       "\n",
       "     GRadient_Boosting  XGboost  SVM  DTC  ADA  Gp_Classifier  Somme  \n",
       "1                    1        0    0    1    1              0     10  \n",
       "4                    1        0    0    1    1              0     10  \n",
       "33                   1        0    0    1    1              0     10  \n",
       "43                   1        1    0    1    1              1     10  \n",
       "108                  1        0    0    1    1              0     10  "
      ]
     },
     "execution_count": 84,
     "metadata": {},
     "output_type": "execute_result"
    }
   ],
   "source": [
    "models[models[\"Somme\"]==10].head()"
   ]
  },
  {
   "cell_type": "code",
   "execution_count": 105,
   "metadata": {},
   "outputs": [
    {
     "data": {
      "text/html": [
       "<div>\n",
       "<style>\n",
       "    .dataframe thead tr:only-child th {\n",
       "        text-align: right;\n",
       "    }\n",
       "\n",
       "    .dataframe thead th {\n",
       "        text-align: left;\n",
       "    }\n",
       "\n",
       "    .dataframe tbody tr th {\n",
       "        vertical-align: top;\n",
       "    }\n",
       "</style>\n",
       "<table border=\"1\" class=\"dataframe\">\n",
       "  <thead>\n",
       "    <tr style=\"text-align: right;\">\n",
       "      <th></th>\n",
       "      <th>rf</th>\n",
       "      <th>bagging</th>\n",
       "      <th>Random-Forest</th>\n",
       "      <th>GRadient_Boosting</th>\n",
       "    </tr>\n",
       "  </thead>\n",
       "  <tbody>\n",
       "    <tr>\n",
       "      <th>0</th>\n",
       "      <td>0</td>\n",
       "      <td>0</td>\n",
       "      <td>0</td>\n",
       "      <td>0</td>\n",
       "    </tr>\n",
       "    <tr>\n",
       "      <th>1</th>\n",
       "      <td>1</td>\n",
       "      <td>1</td>\n",
       "      <td>1</td>\n",
       "      <td>1</td>\n",
       "    </tr>\n",
       "    <tr>\n",
       "      <th>2</th>\n",
       "      <td>0</td>\n",
       "      <td>0</td>\n",
       "      <td>0</td>\n",
       "      <td>0</td>\n",
       "    </tr>\n",
       "    <tr>\n",
       "      <th>3</th>\n",
       "      <td>0</td>\n",
       "      <td>0</td>\n",
       "      <td>0</td>\n",
       "      <td>0</td>\n",
       "    </tr>\n",
       "    <tr>\n",
       "      <th>4</th>\n",
       "      <td>1</td>\n",
       "      <td>1</td>\n",
       "      <td>1</td>\n",
       "      <td>1</td>\n",
       "    </tr>\n",
       "  </tbody>\n",
       "</table>\n",
       "</div>"
      ],
      "text/plain": [
       "   rf  bagging  Random-Forest  GRadient_Boosting\n",
       "0   0        0              0                  0\n",
       "1   1        1              1                  1\n",
       "2   0        0              0                  0\n",
       "3   0        0              0                  0\n",
       "4   1        1              1                  1"
      ]
     },
     "execution_count": 105,
     "metadata": {},
     "output_type": "execute_result"
    }
   ],
   "source": [
    "best_models = pd.concat([predDF[[\"rf\",\"bagging\"]],predk[[\"Random-Forest\",\"GRadient_Boosting\"]]],axis=1)\n",
    "best_models.head()"
   ]
  },
  {
   "cell_type": "code",
   "execution_count": 134,
   "metadata": {},
   "outputs": [
    {
     "data": {
      "text/html": [
       "<div>\n",
       "<style>\n",
       "    .dataframe thead tr:only-child th {\n",
       "        text-align: right;\n",
       "    }\n",
       "\n",
       "    .dataframe thead th {\n",
       "        text-align: left;\n",
       "    }\n",
       "\n",
       "    .dataframe tbody tr th {\n",
       "        vertical-align: top;\n",
       "    }\n",
       "</style>\n",
       "<table border=\"1\" class=\"dataframe\">\n",
       "  <thead>\n",
       "    <tr style=\"text-align: right;\">\n",
       "      <th></th>\n",
       "      <th>rf</th>\n",
       "      <th>bagging</th>\n",
       "      <th>Random-Forest</th>\n",
       "      <th>GRadient_Boosting</th>\n",
       "    </tr>\n",
       "  </thead>\n",
       "  <tbody>\n",
       "    <tr>\n",
       "      <th>0</th>\n",
       "      <td>0.01</td>\n",
       "      <td>0.00</td>\n",
       "      <td>0.035675</td>\n",
       "      <td>0.226986</td>\n",
       "    </tr>\n",
       "    <tr>\n",
       "      <th>1</th>\n",
       "      <td>0.90</td>\n",
       "      <td>0.95</td>\n",
       "      <td>0.760310</td>\n",
       "      <td>0.622771</td>\n",
       "    </tr>\n",
       "    <tr>\n",
       "      <th>2</th>\n",
       "      <td>0.29</td>\n",
       "      <td>0.35</td>\n",
       "      <td>0.351786</td>\n",
       "      <td>0.274139</td>\n",
       "    </tr>\n",
       "    <tr>\n",
       "      <th>3</th>\n",
       "      <td>0.33</td>\n",
       "      <td>0.26</td>\n",
       "      <td>0.127500</td>\n",
       "      <td>0.273700</td>\n",
       "    </tr>\n",
       "    <tr>\n",
       "      <th>4</th>\n",
       "      <td>0.84</td>\n",
       "      <td>0.91</td>\n",
       "      <td>0.762810</td>\n",
       "      <td>0.625353</td>\n",
       "    </tr>\n",
       "  </tbody>\n",
       "</table>\n",
       "</div>"
      ],
      "text/plain": [
       "     rf  bagging  Random-Forest  GRadient_Boosting\n",
       "0  0.01     0.00       0.035675           0.226986\n",
       "1  0.90     0.95       0.760310           0.622771\n",
       "2  0.29     0.35       0.351786           0.274139\n",
       "3  0.33     0.26       0.127500           0.273700\n",
       "4  0.84     0.91       0.762810           0.625353"
      ]
     },
     "execution_count": 134,
     "metadata": {},
     "output_type": "execute_result"
    }
   ],
   "source": [
    "best_prob = pd.concat([probabilities[[\"rf\",\"bagging\"]],probak[[\"Random-Forest\",\"GRadient_Boosting\"]]],axis=1)\n",
    "best_prob.head()"
   ]
  },
  {
   "cell_type": "code",
   "execution_count": 140,
   "metadata": {},
   "outputs": [
    {
     "name": "stderr",
     "output_type": "stream",
     "text": [
      "c:\\users\\soum bartowski\\anaconda3\\lib\\site-packages\\ipykernel_launcher.py:3: SettingWithCopyWarning: \n",
      "A value is trying to be set on a copy of a slice from a DataFrame.\n",
      "Try using .loc[row_indexer,col_indexer] = value instead\n",
      "\n",
      "See the caveats in the documentation: http://pandas.pydata.org/pandas-docs/stable/indexing.html#indexing-view-versus-copy\n",
      "  This is separate from the ipykernel package so we can avoid doing imports until\n"
     ]
    }
   ],
   "source": [
    "ind_prob3 = [43,290,303,364,366,421,600,748,844,845,871,1131,1143,1158,1227,1416,1417,1735]\n",
    "best3 = best_prob.iloc[ind_prob3,:]\n",
    "best3[\"mean\"] = best3.mean(axis=1)"
   ]
  },
  {
   "cell_type": "markdown",
   "metadata": {},
   "source": [
    "## Non suprvisé"
   ]
  },
  {
   "cell_type": "code",
   "execution_count": 69,
   "metadata": {},
   "outputs": [],
   "source": [
    "from sklearn.cluster import KMeans\n",
    "X = pd.concat([testDF,trainDF],axis=0)\n",
    "kmeans = KMeans(n_clusters=4, random_state=0).fit(X)"
   ]
  },
  {
   "cell_type": "code",
   "execution_count": 72,
   "metadata": {},
   "outputs": [
    {
     "data": {
      "text/plain": [
       "(array([0, 1, 2, 3]), array([1257,   46,  467,  147], dtype=int64))"
      ]
     },
     "execution_count": 72,
     "metadata": {},
     "output_type": "execute_result"
    }
   ],
   "source": [
    "ypred = kmeans.predict(testDF)\n",
    "np.unique(ypred,return_counts=True)"
   ]
  },
  {
   "cell_type": "code",
   "execution_count": 23,
   "metadata": {},
   "outputs": [],
   "source": [
    "ind_best3 = [43,290,303,364,366,421,600,748,844,845,871,1131,1143,1158,1227,1416,1417,1735]\n",
    "ind_best4 = list(best_model[best_model[\"Somme\"]==4].index)\n",
    "ind_3_4 = ind_best3+ind_best4"
   ]
  },
  {
   "cell_type": "code",
   "execution_count": 8,
   "metadata": {},
   "outputs": [],
   "source": [
    "best_model = pd.read_csv(\"best_models.csv\",sep=\",\")"
   ]
  },
  {
   "cell_type": "code",
   "execution_count": 9,
   "metadata": {},
   "outputs": [
    {
     "data": {
      "text/html": [
       "<div>\n",
       "<style>\n",
       "    .dataframe thead tr:only-child th {\n",
       "        text-align: right;\n",
       "    }\n",
       "\n",
       "    .dataframe thead th {\n",
       "        text-align: left;\n",
       "    }\n",
       "\n",
       "    .dataframe tbody tr th {\n",
       "        vertical-align: top;\n",
       "    }\n",
       "</style>\n",
       "<table border=\"1\" class=\"dataframe\">\n",
       "  <thead>\n",
       "    <tr style=\"text-align: right;\">\n",
       "      <th></th>\n",
       "      <th>Unnamed: 0</th>\n",
       "      <th>rf</th>\n",
       "      <th>bagging</th>\n",
       "      <th>Random-Forest</th>\n",
       "      <th>GRadient_Boosting</th>\n",
       "      <th>Somme</th>\n",
       "    </tr>\n",
       "  </thead>\n",
       "  <tbody>\n",
       "    <tr>\n",
       "      <th>0</th>\n",
       "      <td>0</td>\n",
       "      <td>0</td>\n",
       "      <td>0</td>\n",
       "      <td>0</td>\n",
       "      <td>0</td>\n",
       "      <td>0</td>\n",
       "    </tr>\n",
       "    <tr>\n",
       "      <th>1</th>\n",
       "      <td>1</td>\n",
       "      <td>1</td>\n",
       "      <td>1</td>\n",
       "      <td>1</td>\n",
       "      <td>1</td>\n",
       "      <td>4</td>\n",
       "    </tr>\n",
       "    <tr>\n",
       "      <th>2</th>\n",
       "      <td>2</td>\n",
       "      <td>0</td>\n",
       "      <td>0</td>\n",
       "      <td>0</td>\n",
       "      <td>0</td>\n",
       "      <td>0</td>\n",
       "    </tr>\n",
       "    <tr>\n",
       "      <th>3</th>\n",
       "      <td>3</td>\n",
       "      <td>0</td>\n",
       "      <td>0</td>\n",
       "      <td>0</td>\n",
       "      <td>0</td>\n",
       "      <td>0</td>\n",
       "    </tr>\n",
       "    <tr>\n",
       "      <th>4</th>\n",
       "      <td>4</td>\n",
       "      <td>1</td>\n",
       "      <td>1</td>\n",
       "      <td>1</td>\n",
       "      <td>1</td>\n",
       "      <td>4</td>\n",
       "    </tr>\n",
       "  </tbody>\n",
       "</table>\n",
       "</div>"
      ],
      "text/plain": [
       "   Unnamed: 0  rf  bagging  Random-Forest  GRadient_Boosting  Somme\n",
       "0           0   0        0              0                  0      0\n",
       "1           1   1        1              1                  1      4\n",
       "2           2   0        0              0                  0      0\n",
       "3           3   0        0              0                  0      0\n",
       "4           4   1        1              1                  1      4"
      ]
     },
     "execution_count": 9,
     "metadata": {},
     "output_type": "execute_result"
    }
   ],
   "source": [
    "best_model.head()"
   ]
  },
  {
   "cell_type": "code",
   "execution_count": 11,
   "metadata": {},
   "outputs": [],
   "source": [
    "tmp = best_model[best_model[\"Somme\"]==4]"
   ]
  },
  {
   "cell_type": "code",
   "execution_count": 12,
   "metadata": {},
   "outputs": [],
   "source": [
    "l = list(tmp.index)"
   ]
  },
  {
   "cell_type": "code",
   "execution_count": 31,
   "metadata": {},
   "outputs": [],
   "source": [
    "# Resultat kmeans cluster 1\n",
    "ind_km1 = pd.read_csv(\"final-model/index.csv\",sep=\",\")\n",
    "l1 = ind_km1[\"ind\"]\n",
    "l1 = l1.values"
   ]
  },
  {
   "cell_type": "code",
   "execution_count": 59,
   "metadata": {},
   "outputs": [
    {
     "data": {
      "text/html": [
       "<div>\n",
       "<style>\n",
       "    .dataframe thead tr:only-child th {\n",
       "        text-align: right;\n",
       "    }\n",
       "\n",
       "    .dataframe thead th {\n",
       "        text-align: left;\n",
       "    }\n",
       "\n",
       "    .dataframe tbody tr th {\n",
       "        vertical-align: top;\n",
       "    }\n",
       "</style>\n",
       "<table border=\"1\" class=\"dataframe\">\n",
       "  <thead>\n",
       "    <tr style=\"text-align: right;\">\n",
       "      <th></th>\n",
       "      <th>Unnamed: 0</th>\n",
       "      <th>ind</th>\n",
       "    </tr>\n",
       "  </thead>\n",
       "  <tbody>\n",
       "    <tr>\n",
       "      <th>0</th>\n",
       "      <td>1</td>\n",
       "      <td>25</td>\n",
       "    </tr>\n",
       "    <tr>\n",
       "      <th>1</th>\n",
       "      <td>2</td>\n",
       "      <td>38</td>\n",
       "    </tr>\n",
       "    <tr>\n",
       "      <th>2</th>\n",
       "      <td>3</td>\n",
       "      <td>71</td>\n",
       "    </tr>\n",
       "    <tr>\n",
       "      <th>3</th>\n",
       "      <td>4</td>\n",
       "      <td>226</td>\n",
       "    </tr>\n",
       "    <tr>\n",
       "      <th>4</th>\n",
       "      <td>5</td>\n",
       "      <td>322</td>\n",
       "    </tr>\n",
       "  </tbody>\n",
       "</table>\n",
       "</div>"
      ],
      "text/plain": [
       "   Unnamed: 0  ind\n",
       "0           1   25\n",
       "1           2   38\n",
       "2           3   71\n",
       "3           4  226\n",
       "4           5  322"
      ]
     },
     "execution_count": 59,
     "metadata": {},
     "output_type": "execute_result"
    }
   ],
   "source": [
    "ind_km1.head()"
   ]
  },
  {
   "cell_type": "code",
   "execution_count": 37,
   "metadata": {},
   "outputs": [
    {
     "data": {
      "text/plain": [
       "{71,\n",
       " 226,\n",
       " 368,\n",
       " 596,\n",
       " 697,\n",
       " 823,\n",
       " 841,\n",
       " 1018,\n",
       " 1063,\n",
       " 1130,\n",
       " 1140,\n",
       " 1353,\n",
       " 1357,\n",
       " 1391,\n",
       " 1503,\n",
       " 1597,\n",
       " 1662,\n",
       " 1716,\n",
       " 1795}"
      ]
     },
     "execution_count": 37,
     "metadata": {},
     "output_type": "execute_result"
    }
   ],
   "source": [
    "#Comparaison\n",
    "set(l1).intersection(ind_3_4)"
   ]
  },
  {
   "cell_type": "code",
   "execution_count": 33,
   "metadata": {},
   "outputs": [],
   "source": [
    "l1 = list(l1)"
   ]
  },
  {
   "cell_type": "code",
   "execution_count": 114,
   "metadata": {},
   "outputs": [],
   "source": []
  },
  {
   "cell_type": "code",
   "execution_count": 36,
   "metadata": {},
   "outputs": [
    {
     "data": {
      "text/plain": [
       "<matplotlib.figure.Figure at 0x15ee18f2390>"
      ]
     },
     "metadata": {},
     "output_type": "display_data"
    }
   ],
   "source": [
    "import matplotlib.pyplot as plt\n",
    "%matplotlib inline\n",
    "# Notez la taille de la figure\n",
    "#I = [25   38   71  226  322  365  368  377  521  550  577  596  597  655  697  814  823  841  864  884  932  980 1006 1018 1063 1086 1102 1130\n",
    "#,1140,1224, 1228, 1270, 1353, 1357, 1371, 1391, 1503, 1597, 1608, 1662, 1716 1736 1778 1795]\n",
    "#fig = plt.figure(figsize=(20,15))\n",
    "#tmp = bag_proba[bag_proba[1]>0.6]\n",
    "#L = list(tmp.index)\n",
    "for ind in l1:\n",
    "    plt.plot(test.iloc[ind,:],color=\"red\")\n",
    "    plt.savefig(\"Plots/kmeans/\"+str(ind)+\".png\")\n",
    "    plt.clf()"
   ]
  },
  {
   "cell_type": "code",
   "execution_count": 16,
   "metadata": {},
   "outputs": [],
   "source": [
    "tmp = pd.read_csv(\"best_models.csv\",sep=\",\")"
   ]
  },
  {
   "cell_type": "code",
   "execution_count": 23,
   "metadata": {},
   "outputs": [],
   "source": [
    "tt = tmp[(tmp[\"rf\"]==1)  & (tmp[\"bagging\"]==1)]"
   ]
  },
  {
   "cell_type": "markdown",
   "metadata": {},
   "source": [
    "# Exportation des résultats"
   ]
  },
  {
   "cell_type": "code",
   "execution_count": 52,
   "metadata": {},
   "outputs": [
    {
     "data": {
      "text/html": [
       "<div>\n",
       "<style>\n",
       "    .dataframe thead tr:only-child th {\n",
       "        text-align: right;\n",
       "    }\n",
       "\n",
       "    .dataframe thead th {\n",
       "        text-align: left;\n",
       "    }\n",
       "\n",
       "    .dataframe tbody tr th {\n",
       "        vertical-align: top;\n",
       "    }\n",
       "</style>\n",
       "<table border=\"1\" class=\"dataframe\">\n",
       "  <thead>\n",
       "    <tr style=\"text-align: right;\">\n",
       "      <th></th>\n",
       "      <th>anomaly</th>\n",
       "      <th>seqID</th>\n",
       "    </tr>\n",
       "  </thead>\n",
       "  <tbody>\n",
       "    <tr>\n",
       "      <th>0</th>\n",
       "      <td>0</td>\n",
       "      <td>0</td>\n",
       "    </tr>\n",
       "    <tr>\n",
       "      <th>1</th>\n",
       "      <td>0</td>\n",
       "      <td>1</td>\n",
       "    </tr>\n",
       "    <tr>\n",
       "      <th>2</th>\n",
       "      <td>0</td>\n",
       "      <td>2</td>\n",
       "    </tr>\n",
       "    <tr>\n",
       "      <th>3</th>\n",
       "      <td>0</td>\n",
       "      <td>3</td>\n",
       "    </tr>\n",
       "    <tr>\n",
       "      <th>4</th>\n",
       "      <td>0</td>\n",
       "      <td>4</td>\n",
       "    </tr>\n",
       "  </tbody>\n",
       "</table>\n",
       "</div>"
      ],
      "text/plain": [
       "   anomaly  seqID\n",
       "0        0      0\n",
       "1        0      1\n",
       "2        0      2\n",
       "3        0      3\n",
       "4        0      4"
      ]
     },
     "execution_count": 52,
     "metadata": {},
     "output_type": "execute_result"
    }
   ],
   "source": [
    "vec = np.zeros(1917)\n",
    "pred = pd.DataFrame({'seqID':range(len(vec)),'anomaly':list(vec)})\n",
    "pred[\"anomaly\"] = pred[\"anomaly\"].astype(\"int\")\n",
    "pred.head()"
   ]
  },
  {
   "cell_type": "code",
   "execution_count": 56,
   "metadata": {},
   "outputs": [],
   "source": [
    "ind = best_model[best_model[\"Somme\"]==4].index\n",
    "for i in ind:\n",
    "    pred.iloc[i,0]=1\n",
    "for i in ind_best3:\n",
    "    pred.iloc[i,0]=1"
   ]
  },
  {
   "cell_type": "code",
   "execution_count": 58,
   "metadata": {},
   "outputs": [],
   "source": [
    "pred.to_csv('submit.csv',sep=\";\",index=False)"
   ]
  },
  {
   "cell_type": "code",
   "execution_count": 82,
   "metadata": {},
   "outputs": [],
   "source": [
    "ypred = grid.predict(testDF)"
   ]
  },
  {
   "cell_type": "code",
   "execution_count": 83,
   "metadata": {},
   "outputs": [
    {
     "data": {
      "text/plain": [
       "(array([-1,  1]), array([ 492, 1425], dtype=int64))"
      ]
     },
     "execution_count": 83,
     "metadata": {},
     "output_type": "execute_result"
    }
   ],
   "source": [
    "np.unique(ypred,return_counts=True)"
   ]
  },
  {
   "cell_type": "code",
   "execution_count": 19,
   "metadata": {},
   "outputs": [
    {
     "data": {
      "image/png": "[encoded data removed]",
      "text/plain": [
       "<matplotlib.figure.Figure at 0x25c77ebe518>"
      ]
     },
     "metadata": {},
     "output_type": "display_data"
    }
   ],
   "source": [
    "import matplotlib.pyplot as plt\n",
    "%matplotlib inline\n",
    "import seaborn as sns\n",
    "p = sns.countplot(data=df, x = 'anomaly')"
   ]
  },
  {
   "cell_type": "code",
   "execution_count": 22,
   "metadata": {},
   "outputs": [],
   "source": [
    "fig = p.get_figure()\n",
    "fig.savefig(\"fig.png\")"
   ]
  }
 ],
 "metadata": {
  "kernelspec": {
   "display_name": "Python 3",
   "language": "python",
   "name": "python3"
  },
  "language_info": {
   "codemirror_mode": {
    "name": "ipython",
    "version": 3
   },
   "file_extension": ".py",
   "mimetype": "text/x-python",
   "name": "python",
   "nbconvert_exporter": "python",
   "pygments_lexer": "ipython3",
   "version": "3.6.1"
  }
 },
 "nbformat": 4,
 "nbformat_minor": 4
}
